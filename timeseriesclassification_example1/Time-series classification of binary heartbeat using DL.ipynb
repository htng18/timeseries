{
 "cells": [
  {
   "cell_type": "markdown",
   "id": "ac9e386c",
   "metadata": {},
   "source": [
    "# Time-series classification of binary heartbeat using DL "
   ]
  },
  {
   "cell_type": "markdown",
   "id": "93551b64",
   "metadata": {},
   "source": [
    "https://www.timeseriesclassification.com/description.php?Dataset=BinaryHeartbeat\n",
    "\n",
    "We adopt the CNN model to perform the binary classification. "
   ]
  },
  {
   "cell_type": "code",
   "execution_count": 1,
   "id": "6804fdea",
   "metadata": {},
   "outputs": [],
   "source": [
    "from scipy.io import arff\n",
    "import pandas as pd\n",
    "import numpy as np\n",
    "from time import time\n",
    "from sklearn.preprocessing import LabelEncoder\n",
    "from sklearn.metrics import accuracy_score, f1_score, confusion_matrix \n",
    "from sklearn.metrics import precision_score, recall_score, roc_curve, auc\n",
    "from tensorflow.keras.models import Sequential\n",
    "from tensorflow.keras.layers import Dense, Conv1D, MaxPooling1D, Flatten, Dropout\n",
    "from tensorflow.keras.optimizers import Adam\n",
    "from tensorflow.keras.losses import SparseCategoricalCrossentropy\n",
    "from tensorflow.keras.metrics import SparseCategoricalAccuracy\n",
    "from tensorflow.keras.callbacks import EarlyStopping\n",
    "import matplotlib.pyplot as plt\n",
    "\n",
    "import warnings\n",
    "warnings.filterwarnings('ignore')"
   ]
  },
  {
   "cell_type": "code",
   "execution_count": 2,
   "id": "92a3488a",
   "metadata": {},
   "outputs": [],
   "source": [
    "# The data can be downloaded from https://www.timeseriesclassification.com/description.php?Dataset=BinaryHeartbeat\n",
    "train = arff.loadarff('BinaryHeartbeat_TRAIN.arff')\n",
    "test = arff.loadarff('BinaryHeartbeat_TEST.arff')"
   ]
  },
  {
   "cell_type": "code",
   "execution_count": 3,
   "id": "42229cde",
   "metadata": {},
   "outputs": [],
   "source": [
    "train = pd.DataFrame(train[0])\n",
    "test = pd.DataFrame(test[0])"
   ]
  },
  {
   "cell_type": "code",
   "execution_count": 4,
   "id": "b5e87034",
   "metadata": {},
   "outputs": [],
   "source": [
    "train_X = train.iloc[:,:-1].values\n",
    "test_X = test.iloc[:,:-1].values"
   ]
  },
  {
   "cell_type": "code",
   "execution_count": 5,
   "id": "0e920c95",
   "metadata": {},
   "outputs": [],
   "source": [
    "le = LabelEncoder()\n",
    "train_y =le.fit_transform(train.iloc[:,-1])\n",
    "test_y =le.transform(test.iloc[:,-1])"
   ]
  },
  {
   "cell_type": "markdown",
   "id": "73cc8478",
   "metadata": {},
   "source": [
    "Number of classes"
   ]
  },
  {
   "cell_type": "code",
   "execution_count": 6,
   "id": "3b25fedd",
   "metadata": {},
   "outputs": [],
   "source": [
    "output_steps = len(np.unique(train_y))"
   ]
  },
  {
   "cell_type": "markdown",
   "id": "51d8fd96",
   "metadata": {},
   "source": [
    "The index is randomized for validation the trained model."
   ]
  },
  {
   "cell_type": "code",
   "execution_count": 7,
   "id": "b5e3247a",
   "metadata": {},
   "outputs": [],
   "source": [
    "idx = np.random.permutation(len(train_X))\n",
    "\n",
    "train_X = train_X[idx]\n",
    "train_y = train_y[idx]"
   ]
  },
  {
   "cell_type": "code",
   "execution_count": 8,
   "id": "c6ee88d7",
   "metadata": {},
   "outputs": [],
   "source": [
    "#Number of epochs\n",
    "epochs = 50\n",
    "\n",
    "# batch size\n",
    "batch_size = 16\n",
    "\n",
    "# verbose\n",
    "verbose = 0"
   ]
  },
  {
   "cell_type": "markdown",
   "id": "6973dcb9",
   "metadata": {},
   "source": [
    "# CNN model"
   ]
  },
  {
   "cell_type": "code",
   "execution_count": 9,
   "id": "f01410fb",
   "metadata": {},
   "outputs": [],
   "source": [
    "train_X = train_X.reshape((train_X.shape[0], train_X.shape[1], 1))\n",
    "test_X = test_X.reshape((test_X.shape[0], test_X.shape[1], 1))"
   ]
  },
  {
   "cell_type": "code",
   "execution_count": 10,
   "id": "6a52bd3f",
   "metadata": {},
   "outputs": [],
   "source": [
    "input_shape = (train_X.shape[1], 1)"
   ]
  },
  {
   "cell_type": "code",
   "execution_count": 11,
   "id": "67fa07d4",
   "metadata": {},
   "outputs": [
    {
     "name": "stdout",
     "output_type": "stream",
     "text": [
      "Model: \"sequential\"\n",
      "_________________________________________________________________\n",
      "Layer (type)                 Output Shape              Param #   \n",
      "=================================================================\n",
      "conv1d (Conv1D)              (None, 18530, 1024)       9216      \n",
      "_________________________________________________________________\n",
      "max_pooling1d (MaxPooling1D) (None, 2316, 1024)        0         \n",
      "_________________________________________________________________\n",
      "flatten (Flatten)            (None, 2371584)           0         \n",
      "_________________________________________________________________\n",
      "dense (Dense)                (None, 100)               237158500 \n",
      "_________________________________________________________________\n",
      "dropout (Dropout)            (None, 100)               0         \n",
      "_________________________________________________________________\n",
      "dense_1 (Dense)              (None, 2)                 202       \n",
      "=================================================================\n",
      "Total params: 237,167,918\n",
      "Trainable params: 237,167,918\n",
      "Non-trainable params: 0\n",
      "_________________________________________________________________\n"
     ]
    }
   ],
   "source": [
    "model = Sequential()\n",
    "model.add(Conv1D(filters=1024, kernel_size=8, padding=\"same\", input_shape=input_shape))\n",
    "model.add(MaxPooling1D(pool_size=8))\n",
    "model.add(Flatten())\n",
    "model.add(Dense(100, activation='tanh'))\n",
    "model.add(Dropout(0.05))\n",
    "model.add(Dense(output_steps, activation=\"softmax\"))\n",
    "model.compile(loss=SparseCategoricalCrossentropy(), \n",
    "            optimizer=Adam(learning_rate=0.0005), \n",
    "            metrics=[SparseCategoricalAccuracy()])\n",
    "model.summary()"
   ]
  },
  {
   "cell_type": "code",
   "execution_count": 12,
   "id": "6756a552",
   "metadata": {},
   "outputs": [
    {
     "name": "stdout",
     "output_type": "stream",
     "text": [
      "Training time:  311.91773867607117\n"
     ]
    }
   ],
   "source": [
    "early_stopping_monitor = EarlyStopping(patience=15)\n",
    "start = time()\n",
    "history = model.fit(train_X, train_y, epochs=epochs, verbose=verbose, \n",
    "                    batch_size=batch_size, validation_split=0.2, \n",
    "                    callbacks = [early_stopping_monitor], shuffle=False)\n",
    "end = time()\n",
    "print(\"Training time: \",end - start)"
   ]
  },
  {
   "cell_type": "code",
   "execution_count": 13,
   "id": "3bcbec9b",
   "metadata": {},
   "outputs": [
    {
     "data": {
      "text/plain": [
       "Text(0, 0.5, 'Loss')"
      ]
     },
     "execution_count": 13,
     "metadata": {},
     "output_type": "execute_result"
    },
    {
     "data": {
      "image/png": "[encoded data removed]",
      "text/plain": [
       "<Figure size 864x720 with 1 Axes>"
      ]
     },
     "metadata": {
      "needs_background": "light"
     },
     "output_type": "display_data"
    }
   ],
   "source": [
    "# Plot for train losses\n",
    "plt.figure(figsize=(12,10))\n",
    "plt.plot(history.history['loss'], label='Train', )\n",
    "plt.legend()\n",
    "plt.rc('font', size=10)\n",
    "plt.xlabel(\"epochs\")\n",
    "plt.ylabel('Loss')"
   ]
  },
  {
   "cell_type": "code",
   "execution_count": 14,
   "id": "048b2823",
   "metadata": {},
   "outputs": [],
   "source": [
    "def classification_metrics(truedata, pred):\n",
    "    print(\"Metrics\")\n",
    "    print(\"=======================\")\n",
    "    tn, fp, fn, tp = confusion_matrix(truedata, pred).ravel()\n",
    "    print(\"True positive: \", tp)\n",
    "    print(\"True negative: \", tn)\n",
    "    print(\"False positive: \", fp)\n",
    "    print(\"False negative: \", fn)\n",
    "    print()\n",
    "    print(\"Accuracy: \", round(accuracy_score(truedata, pred),3))\n",
    "    print(\"F1 score: \", round(f1_score(truedata, pred),3))\n",
    "    print(\"Precision: \", round(precision_score(truedata, pred),3))\n",
    "    print(\"Recall: \", round(recall_score(truedata, pred),3))"
   ]
  },
  {
   "cell_type": "markdown",
   "id": "4591772f",
   "metadata": {},
   "source": [
    "Performance"
   ]
  },
  {
   "cell_type": "code",
   "execution_count": 15,
   "id": "88ae9dc6",
   "metadata": {},
   "outputs": [
    {
     "name": "stdout",
     "output_type": "stream",
     "text": [
      "Metrics\n",
      "=======================\n",
      "True positive:  9\n",
      "True negative:  130\n",
      "False positive:  20\n",
      "False negative:  46\n",
      "\n",
      "Accuracy:  0.678\n",
      "F1 score:  0.214\n",
      "Precision:  0.31\n",
      "Recall:  0.164\n"
     ]
    }
   ],
   "source": [
    "size = test_y.shape[0]\n",
    "pred = model.predict(test_X)\n",
    "testpred = np.array([1-round(pred[x][0]) for x in range(0,size)])\n",
    "classification_metrics(test_y, testpred)"
   ]
  },
  {
   "cell_type": "code",
   "execution_count": 16,
   "id": "ee880753",
   "metadata": {},
   "outputs": [],
   "source": [
    "fpr = {} \n",
    "tpr = {}\n",
    "roc_auc = {}\n",
    "fpr[\"CNN\"], tpr[\"CNN\"], thresholds = roc_curve(test_y, pred[:,1])\n",
    "roc_auc[\"CNN\"] = round(auc(fpr[\"CNN\"], tpr[\"CNN\"]),2)"
   ]
  },
  {
   "cell_type": "markdown",
   "id": "c3b2be2a",
   "metadata": {},
   "source": [
    "# Plot of ROC"
   ]
  },
  {
   "cell_type": "code",
   "execution_count": 17,
   "id": "777678bd",
   "metadata": {},
   "outputs": [],
   "source": [
    "column = [\"CNN\"]"
   ]
  },
  {
   "cell_type": "code",
   "execution_count": 18,
   "id": "bc931a1f",
   "metadata": {},
   "outputs": [
    {
     "data": {
      "text/plain": [
       "<matplotlib.legend.Legend at 0x126be932a88>"
      ]
     },
     "execution_count": 18,
     "metadata": {},
     "output_type": "execute_result"
    },
    {
     "data": {
      "image/png": "[encoded data removed]",
      "text/plain": [
       "<Figure size 720x576 with 1 Axes>"
      ]
     },
     "metadata": {
      "needs_background": "light"
     },
     "output_type": "display_data"
    }
   ],
   "source": [
    "plt.figure(figsize=(10,8))\n",
    "for col in column:\n",
    "    plt.plot(fpr[col], tpr[col], lw=2, label=\"{} (AUC={})\".format(col,roc_auc[col]))\n",
    "plt.xlabel('False positive rate')\n",
    "plt.ylabel('True positive rate')\n",
    "plt.plot([0, 1], [0, 1], color=\"navy\", lw=1, linestyle=\"--\")\n",
    "plt.xlim([0,1])\n",
    "plt.ylim([0,1])\n",
    "plt.title(\"ROC\")\n",
    "plt.grid(True)\n",
    "ax = plt.gca()\n",
    "plt.legend(loc='lower right')"
   ]
  },
  {
   "cell_type": "markdown",
   "id": "637d79fe",
   "metadata": {},
   "source": [
    "# Summary"
   ]
  },
  {
   "cell_type": "markdown",
   "id": "60e5bb37",
   "metadata": {},
   "source": [
    "In this approach, we do not need to extract features in advance. The CNN model directly train the model by using the data of time series. \n",
    "Compared to the performance using ML methods, the F1 score and AUC are lower using this approach. In addition, the training time is longer. It is noticed that the number of sample is relatively small. It is suggested that the sample size can be increased by using the synethetic data to improve the performance of this approach."
   ]
  }
 ],
 "metadata": {
  "kernelspec": {
   "display_name": "Python 3 (ipykernel)",
   "language": "python",
   "name": "python3"
  },
  "language_info": {
   "codemirror_mode": {
    "name": "ipython",
    "version": 3
   },
   "file_extension": ".py",
   "mimetype": "text/x-python",
   "name": "python",
   "nbconvert_exporter": "python",
   "pygments_lexer": "ipython3",
   "version": "3.7.9"
  }
 },
 "nbformat": 4,
 "nbformat_minor": 5
}
