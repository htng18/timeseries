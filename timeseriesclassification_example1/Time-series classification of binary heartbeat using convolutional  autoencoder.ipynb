{
 "cells": [
  {
   "cell_type": "markdown",
   "id": "ac9e386c",
   "metadata": {},
   "source": [
    "# Time-series classification of binary heartbeat using convolutional  autoencoder"
   ]
  },
  {
   "cell_type": "markdown",
   "id": "93551b64",
   "metadata": {},
   "source": [
    "https://www.timeseriesclassification.com/description.php?Dataset=BinaryHeartbeat\n",
    "\n",
    "We adopt the convolutional autoencoder to perform the binary classification. "
   ]
  },
  {
   "cell_type": "code",
   "execution_count": 1,
   "id": "6804fdea",
   "metadata": {},
   "outputs": [],
   "source": [
    "from scipy.io import arff\n",
    "import pandas as pd\n",
    "import numpy as np\n",
    "import tensorflow as tf\n",
    "from time import time\n",
    "from sklearn.preprocessing import LabelEncoder\n",
    "from sklearn.metrics import accuracy_score, f1_score, confusion_matrix, mean_squared_error\n",
    "from sklearn.metrics import precision_score, recall_score\n",
    "from tensorflow.keras.models import Sequential\n",
    "from tensorflow.keras.layers import Conv1D, Conv1DTranspose, Dropout \n",
    "from tensorflow.keras.layers import Conv1DTranspose\n",
    "from tensorflow.keras.optimizers import Adam\n",
    "import matplotlib.pyplot as plt\n",
    "\n",
    "import warnings\n",
    "warnings.filterwarnings('ignore')"
   ]
  },
  {
   "cell_type": "code",
   "execution_count": 2,
   "id": "92a3488a",
   "metadata": {},
   "outputs": [],
   "source": [
    "# The data can be downloaded from https://www.timeseriesclassification.com/description.php?Dataset=BinaryHeartbeat\n",
    "train = arff.loadarff('BinaryHeartbeat_TRAIN.arff')\n",
    "test = arff.loadarff('BinaryHeartbeat_TEST.arff')"
   ]
  },
  {
   "cell_type": "code",
   "execution_count": 3,
   "id": "42229cde",
   "metadata": {},
   "outputs": [],
   "source": [
    "train = pd.DataFrame(train[0])\n",
    "test = pd.DataFrame(test[0])"
   ]
  },
  {
   "cell_type": "code",
   "execution_count": 4,
   "id": "bc12b875",
   "metadata": {},
   "outputs": [],
   "source": [
    "train = train.sample(frac=1).reset_index(drop=True) # Shuffle the sample"
   ]
  },
  {
   "cell_type": "code",
   "execution_count": 5,
   "id": "753e72e5",
   "metadata": {},
   "outputs": [],
   "source": [
    "abnormal_train = train[train.target==b'Abnormal']\n",
    "normal_train = train[train.target==b'Normal']\n",
    "abnormal_test = test[test.target==b'Abnormal']\n",
    "normal_test = test[test.target==b'Normal']"
   ]
  },
  {
   "cell_type": "code",
   "execution_count": 6,
   "id": "b5e87034",
   "metadata": {},
   "outputs": [],
   "source": [
    "normal_train_X = normal_train.iloc[:,2:-1].values\n",
    "normal_test_X = normal_test.iloc[:,2:-1].values\n",
    "abnormal_train_X = abnormal_train.iloc[:,2:-1].values\n",
    "abnormal_test_X = abnormal_test.iloc[:,2:-1].values"
   ]
  },
  {
   "cell_type": "code",
   "execution_count": 7,
   "id": "9f2dc783",
   "metadata": {},
   "outputs": [],
   "source": [
    "test_X = test.iloc[:,2:-1].values"
   ]
  },
  {
   "cell_type": "code",
   "execution_count": 8,
   "id": "09a16707",
   "metadata": {},
   "outputs": [
    {
     "data": {
      "text/plain": [
       "b'Abnormal'    149\n",
       "b'Normal'       55\n",
       "Name: target, dtype: int64"
      ]
     },
     "execution_count": 8,
     "metadata": {},
     "output_type": "execute_result"
    }
   ],
   "source": [
    "train['target'].value_counts()"
   ]
  },
  {
   "cell_type": "markdown",
   "id": "26d2cb90",
   "metadata": {},
   "source": [
    "Label the two classes"
   ]
  },
  {
   "cell_type": "code",
   "execution_count": 9,
   "id": "c1d25a31",
   "metadata": {},
   "outputs": [],
   "source": [
    "le = LabelEncoder()\n",
    "train_y = le.fit_transform(train.iloc[:,-1])\n",
    "test_y = le.transform(test.iloc[:,-1])"
   ]
  },
  {
   "cell_type": "code",
   "execution_count": 10,
   "id": "21c5af6c",
   "metadata": {},
   "outputs": [
    {
     "name": "stdout",
     "output_type": "stream",
     "text": [
      "Labels: {0: 149, 1: 55}\n"
     ]
    }
   ],
   "source": [
    "values, counts = np.unique(train_y, return_counts=True)\n",
    "print(\"Labels:\", dict(zip(values, counts)))"
   ]
  },
  {
   "cell_type": "markdown",
   "id": "a44c150d",
   "metadata": {},
   "source": [
    "We label \"abnormal\" as 0 and \"normal\" as 1"
   ]
  },
  {
   "cell_type": "code",
   "execution_count": 11,
   "id": "c6ee88d7",
   "metadata": {},
   "outputs": [],
   "source": [
    "#Number of epochs\n",
    "epochs = 50\n",
    "\n",
    "# batch size\n",
    "batch_size = 32\n",
    "\n",
    "# verbose\n",
    "verbose = 0"
   ]
  },
  {
   "cell_type": "markdown",
   "id": "6973dcb9",
   "metadata": {},
   "source": [
    "# Convolutional autoencoder"
   ]
  },
  {
   "cell_type": "code",
   "execution_count": 12,
   "id": "1759c264",
   "metadata": {},
   "outputs": [],
   "source": [
    "normal_train_X = normal_train_X.reshape((normal_train_X.shape[0], normal_train_X.shape[1], 1))\n",
    "normal_test_X = normal_test_X.reshape((normal_test_X.shape[0], normal_test_X.shape[1], 1))\n",
    "abnormal_train_X = abnormal_train_X.reshape((abnormal_train_X.shape[0], abnormal_train_X.shape[1], 1))\n",
    "abnormal_test_X = abnormal_test_X.reshape((abnormal_test_X.shape[0], abnormal_test_X.shape[1], 1))"
   ]
  },
  {
   "cell_type": "code",
   "execution_count": 13,
   "id": "f04117d5",
   "metadata": {},
   "outputs": [],
   "source": [
    "test_X = test_X.reshape((test_X.shape[0], test_X.shape[1], 1))"
   ]
  },
  {
   "cell_type": "code",
   "execution_count": 14,
   "id": "f7408075",
   "metadata": {},
   "outputs": [],
   "source": [
    "output_size = normal_train_X.shape[1]"
   ]
  },
  {
   "cell_type": "code",
   "execution_count": 15,
   "id": "6a52bd3f",
   "metadata": {},
   "outputs": [],
   "source": [
    "input_shape = (normal_train_X.shape[1], 1)"
   ]
  },
  {
   "cell_type": "code",
   "execution_count": 16,
   "id": "67fa07d4",
   "metadata": {},
   "outputs": [
    {
     "name": "stdout",
     "output_type": "stream",
     "text": [
      "Model: \"sequential\"\n",
      "_________________________________________________________________\n",
      "Layer (type)                 Output Shape              Param #   \n",
      "=================================================================\n",
      "conv1d (Conv1D)              (None, 9264, 256)         2048      \n",
      "_________________________________________________________________\n",
      "dropout (Dropout)            (None, 9264, 256)         0         \n",
      "_________________________________________________________________\n",
      "conv1d_1 (Conv1D)            (None, 4632, 128)         229504    \n",
      "_________________________________________________________________\n",
      "dropout_1 (Dropout)          (None, 4632, 128)         0         \n",
      "_________________________________________________________________\n",
      "conv1d_2 (Conv1D)            (None, 2316, 64)          57408     \n",
      "_________________________________________________________________\n",
      "dropout_2 (Dropout)          (None, 2316, 64)          0         \n",
      "_________________________________________________________________\n",
      "conv1d_3 (Conv1D)            (None, 1158, 32)          14368     \n",
      "_________________________________________________________________\n",
      "dropout_3 (Dropout)          (None, 1158, 32)          0         \n",
      "_________________________________________________________________\n",
      "conv1d_4 (Conv1D)            (None, 579, 16)           3600      \n",
      "_________________________________________________________________\n",
      "conv1d_transpose (Conv1DTran (None, 1158, 16)          1808      \n",
      "_________________________________________________________________\n",
      "conv1d_transpose_1 (Conv1DTr (None, 2316, 32)          3616      \n",
      "_________________________________________________________________\n",
      "dropout_4 (Dropout)          (None, 2316, 32)          0         \n",
      "_________________________________________________________________\n",
      "conv1d_transpose_2 (Conv1DTr (None, 4632, 64)          14400     \n",
      "_________________________________________________________________\n",
      "dropout_5 (Dropout)          (None, 4632, 64)          0         \n",
      "_________________________________________________________________\n",
      "conv1d_transpose_3 (Conv1DTr (None, 9264, 128)         57472     \n",
      "_________________________________________________________________\n",
      "dropout_6 (Dropout)          (None, 9264, 128)         0         \n",
      "_________________________________________________________________\n",
      "conv1d_transpose_4 (Conv1DTr (None, 18528, 256)        229632    \n",
      "_________________________________________________________________\n",
      "dropout_7 (Dropout)          (None, 18528, 256)        0         \n",
      "_________________________________________________________________\n",
      "conv1d_transpose_5 (Conv1DTr (None, 18528, 1)          1793      \n",
      "=================================================================\n",
      "Total params: 615,649\n",
      "Trainable params: 615,649\n",
      "Non-trainable params: 0\n",
      "_________________________________________________________________\n"
     ]
    }
   ],
   "source": [
    "model = Sequential()\n",
    "model.add(Conv1D(filters=256, kernel_size=7, padding=\"same\", strides=2, activation=\"relu\", input_shape=input_shape))\n",
    "model.add(Dropout(rate=0.1))\n",
    "model.add(Conv1D(filters=128, kernel_size=7, padding=\"same\", strides=2, activation=\"relu\"))\n",
    "model.add(Dropout(rate=0.1))\n",
    "model.add(Conv1D(filters=64, kernel_size=7, padding=\"same\", strides=2, activation=\"relu\"))\n",
    "model.add(Dropout(rate=0.1))\n",
    "model.add(Conv1D(filters=32, kernel_size=7, padding=\"same\", strides=2, activation=\"relu\"))\n",
    "model.add(Dropout(rate=0.1))\n",
    "model.add(Conv1D(filters=16, kernel_size=7, padding=\"same\", strides=2, activation=\"relu\"))\n",
    "model.add(Conv1DTranspose(filters=16, kernel_size=7, padding=\"same\", strides=2, activation=\"relu\"))\n",
    "model.add(Conv1DTranspose(filters=32, kernel_size=7, padding=\"same\", strides=2, activation=\"relu\"))\n",
    "model.add(Dropout(rate=0.1))\n",
    "model.add(Conv1DTranspose(filters=64, kernel_size=7, padding=\"same\", strides=2, activation=\"relu\"))\n",
    "model.add(Dropout(rate=0.1))\n",
    "model.add(Conv1DTranspose(filters=128, kernel_size=7, padding=\"same\", strides=2, activation=\"relu\"))\n",
    "model.add(Dropout(rate=0.1))\n",
    "model.add(Conv1DTranspose(filters=256, kernel_size=7, padding=\"same\", strides=2, activation=\"relu\"))\n",
    "model.add(Dropout(rate=0.1))\n",
    "model.add(Conv1DTranspose(filters=1, kernel_size=7, padding=\"same\"))\n",
    "model.compile(optimizer=Adam(learning_rate=0.001),loss='mse')\n",
    "model.summary()"
   ]
  },
  {
   "cell_type": "code",
   "execution_count": 17,
   "id": "6756a552",
   "metadata": {},
   "outputs": [
    {
     "name": "stdout",
     "output_type": "stream",
     "text": [
      "Training time:  1682.4851913452148\n"
     ]
    }
   ],
   "source": [
    "start = time()\n",
    "history = model.fit(abnormal_train_X, abnormal_train_X, epochs=epochs, verbose=verbose, \n",
    "                    batch_size=batch_size, validation_split=0.1, shuffle=False)\n",
    "end = time()\n",
    "print(\"Training time: \",end - start)"
   ]
  },
  {
   "cell_type": "code",
   "execution_count": 18,
   "id": "3bcbec9b",
   "metadata": {},
   "outputs": [
    {
     "data": {
      "text/plain": [
       "Text(0, 0.5, 'Loss')"
      ]
     },
     "execution_count": 18,
     "metadata": {},
     "output_type": "execute_result"
    },
    {
     "data": {
      "image/png": "[encoded data removed]",
      "text/plain": [
       "<Figure size 720x360 with 1 Axes>"
      ]
     },
     "metadata": {
      "needs_background": "light"
     },
     "output_type": "display_data"
    }
   ],
   "source": [
    "# Plot for train losses\n",
    "plt.figure(figsize=(10,5))\n",
    "plt.plot(history.history['loss'], label='Train')\n",
    "plt.plot(history.history['val_loss'], label='Validation')\n",
    "plt.legend()\n",
    "plt.rc('font', size=10)\n",
    "plt.xlabel(\"epochs\")\n",
    "plt.ylabel('Loss')"
   ]
  },
  {
   "cell_type": "markdown",
   "id": "6321f596",
   "metadata": {},
   "source": [
    "# Reconstructed error"
   ]
  },
  {
   "cell_type": "code",
   "execution_count": 19,
   "id": "c88d2801",
   "metadata": {},
   "outputs": [],
   "source": [
    "def reconstruct_err(model, data):\n",
    "    reconstructions = model.predict(data)[:,:,0]\n",
    "    err = mean_squared_error(data[:,:,0].T, reconstructions.T, multioutput='raw_values')\n",
    "    return err"
   ]
  },
  {
   "cell_type": "code",
   "execution_count": 20,
   "id": "05ff4e0b",
   "metadata": {},
   "outputs": [],
   "source": [
    "normal_err = reconstruct_err(model, normal_train_X)\n",
    "abnormal_err = reconstruct_err(model, abnormal_train_X)"
   ]
  },
  {
   "cell_type": "code",
   "execution_count": 21,
   "id": "ae847760",
   "metadata": {},
   "outputs": [
    {
     "data": {
      "image/png": "[encoded data removed]",
      "text/plain": [
       "<Figure size 720x360 with 1 Axes>"
      ]
     },
     "metadata": {
      "needs_background": "light"
     },
     "output_type": "display_data"
    }
   ],
   "source": [
    "bins = 2000\n",
    "plt.figure(figsize=(10,5))\n",
    "plt.hist([normal_err, abnormal_err], bins, label=['Normal', 'Abnormal'], density=True)\n",
    "min_lim = min(np.percentile(normal_err, 90), np.percentile(abnormal_err, 90))\n",
    "plt.xlim([0, min_lim])\n",
    "plt.legend()\n",
    "plt.show()"
   ]
  },
  {
   "cell_type": "markdown",
   "id": "0e69992c",
   "metadata": {},
   "source": [
    "We can see that the mean of abnormal's resconstructed error is smaller than the mean of normal one."
   ]
  },
  {
   "cell_type": "code",
   "execution_count": 22,
   "id": "504204f4",
   "metadata": {},
   "outputs": [],
   "source": [
    "diff = []\n",
    "normal_percentile = []\n",
    "abnormal_percentile = []\n",
    "for i in range(1,100):\n",
    "    diff.append(np.abs(np.percentile(abnormal_err, i) - np.percentile(normal_err, 100-i)))\n",
    "    normal_percentile.append(np.percentile(normal_err, 100-i))\n",
    "    abnormal_percentile.append(np.percentile(abnormal_err, i))"
   ]
  },
  {
   "cell_type": "code",
   "execution_count": 23,
   "id": "3b4c9e88",
   "metadata": {},
   "outputs": [
    {
     "data": {
      "image/png": "[encoded data removed]",
      "text/plain": [
       "<Figure size 720x360 with 1 Axes>"
      ]
     },
     "metadata": {
      "needs_background": "light"
     },
     "output_type": "display_data"
    }
   ],
   "source": [
    "plt.figure(figsize=(10,5))\n",
    "plt.plot(abnormal_percentile, label='Abnormal: Percentile(x)')\n",
    "plt.plot(normal_percentile, label='Normal: Percentile(100-x)')\n",
    "plt.legend()\n",
    "plt.ylabel('Reconstucted error')\n",
    "plt.xlabel('x')\n",
    "plt.show()"
   ]
  },
  {
   "cell_type": "markdown",
   "id": "6b52d59e",
   "metadata": {},
   "source": [
    "Plot of the difference between abnormal percentile(x) and normal percentile(100-x)"
   ]
  },
  {
   "cell_type": "code",
   "execution_count": 24,
   "id": "6f8a112a",
   "metadata": {},
   "outputs": [
    {
     "data": {
      "image/png": "[encoded data removed]",
      "text/plain": [
       "<Figure size 720x360 with 1 Axes>"
      ]
     },
     "metadata": {
      "needs_background": "light"
     },
     "output_type": "display_data"
    }
   ],
   "source": [
    "plt.figure(figsize=(10,5))\n",
    "plt.plot(diff)\n",
    "plt.ylabel('Difference of reconstucted error')\n",
    "plt.xlabel('x')\n",
    "plt.show()"
   ]
  },
  {
   "cell_type": "markdown",
   "id": "525da5d1",
   "metadata": {},
   "source": [
    "The minimum of difference is about the point of seperating the the distributions of normal and abnormal's errors.\n",
    "<br>\n",
    "We choose the minimum of the difference as a threshold to distinguish the two classes."
   ]
  },
  {
   "cell_type": "code",
   "execution_count": 25,
   "id": "a1645abe",
   "metadata": {},
   "outputs": [],
   "source": [
    "min_index = np.argmin(diff)\n",
    "threshold = np.percentile(abnormal_err, min_index) "
   ]
  },
  {
   "cell_type": "code",
   "execution_count": 26,
   "id": "8fe08be1",
   "metadata": {},
   "outputs": [],
   "source": [
    "def prediction(model, test_X):\n",
    "    err = reconstruct_err(model, test_X)\n",
    "    index = np.where(err>threshold)\n",
    "    index = list(index[0])\n",
    "    size = test_y.shape[0]\n",
    "\n",
    "    return [1 if x in index else 0 for x in range(size)]"
   ]
  },
  {
   "cell_type": "code",
   "execution_count": 27,
   "id": "396d84a6",
   "metadata": {},
   "outputs": [],
   "source": [
    "pred = prediction(model, test_X)"
   ]
  },
  {
   "cell_type": "markdown",
   "id": "f66e98ca",
   "metadata": {},
   "source": [
    "# Performance"
   ]
  },
  {
   "cell_type": "code",
   "execution_count": 28,
   "id": "2c92d135",
   "metadata": {},
   "outputs": [],
   "source": [
    "def classification_metrics(truedata, pred):\n",
    "    print(\"Metrics\")\n",
    "    print(\"=======================\")\n",
    "    tn, fp, fn, tp = confusion_matrix(truedata, pred).ravel()\n",
    "    print(\"True positive: \", tp)\n",
    "    print(\"True negative: \", tn)\n",
    "    print(\"False positive: \", fp)\n",
    "    print(\"False negative: \", fn)\n",
    "    print()\n",
    "    print(\"Accuracy: \", round(accuracy_score(truedata, pred),3))\n",
    "    print(\"F1 score: \", round(f1_score(truedata, pred),3))\n",
    "    print(\"Precision: \", round(precision_score(truedata, pred),3))\n",
    "    print(\"Recall: \", round(recall_score(truedata, pred),3))"
   ]
  },
  {
   "cell_type": "code",
   "execution_count": 29,
   "id": "b2323e9a",
   "metadata": {},
   "outputs": [
    {
     "name": "stdout",
     "output_type": "stream",
     "text": [
      "Metrics\n",
      "=======================\n",
      "True positive:  35\n",
      "True negative:  95\n",
      "False positive:  55\n",
      "False negative:  20\n",
      "\n",
      "Accuracy:  0.634\n",
      "F1 score:  0.483\n",
      "Precision:  0.389\n",
      "Recall:  0.636\n"
     ]
    }
   ],
   "source": [
    "classification_metrics(test_y, pred)"
   ]
  },
  {
   "cell_type": "markdown",
   "id": "61d6d72e",
   "metadata": {},
   "source": [
    "# Summary"
   ]
  },
  {
   "cell_type": "markdown",
   "id": "39df6e39",
   "metadata": {},
   "source": [
    "We demonstrate the convolutional autoencoder to classify the two negative and positive cases. F1 score is higher than that using CNN model."
   ]
  }
 ],
 "metadata": {
  "kernelspec": {
   "display_name": "Python 3 (ipykernel)",
   "language": "python",
   "name": "python3"
  },
  "language_info": {
   "codemirror_mode": {
    "name": "ipython",
    "version": 3
   },
   "file_extension": ".py",
   "mimetype": "text/x-python",
   "name": "python",
   "nbconvert_exporter": "python",
   "pygments_lexer": "ipython3",
   "version": "3.7.9"
  }
 },
 "nbformat": 4,
 "nbformat_minor": 5
}
