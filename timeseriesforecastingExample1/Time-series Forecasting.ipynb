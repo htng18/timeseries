{
 "cells": [
  {
   "cell_type": "markdown",
   "id": "cf5c0bd0",
   "metadata": {},
   "source": [
    "# Time Series Forecasting on Electricity consumption"
   ]
  },
  {
   "cell_type": "markdown",
   "id": "be91643e",
   "metadata": {},
   "source": [
    "Dataset: https://www.kaggle.com/aditya230688/jhts-forecasting\n",
    "\n",
    "We perform the multi-step time-series forecaseting on electricity consumption using the different DL methods. We adopt the different DL methods which are provided below:\n",
    "<li> Dense model\n",
    "<li> CNN model\n",
    "<li> LSTM model\n",
    "<li> CNN-LSTM model\n",
    "    \n",
    "<br> We compare the performance of predictions from the different DL methoods."
   ]
  },
  {
   "cell_type": "code",
   "execution_count": 1,
   "id": "17a4a19b",
   "metadata": {},
   "outputs": [],
   "source": [
    "import pandas as pd\n",
    "import numpy as np\n",
    "from time import time\n",
    "from sklearn.preprocessing import MinMaxScaler, LabelEncoder\n",
    "from sklearn.metrics import mean_squared_error, mean_absolute_error\n",
    "import matplotlib.pyplot as plt\n",
    "\n",
    "from deeplearning_model import dense_model, lstm_model, cnn_model, cnnlstm_model"
   ]
  },
  {
   "cell_type": "markdown",
   "id": "18d1e3f5",
   "metadata": {},
   "source": [
    "Load the data set"
   ]
  },
  {
   "cell_type": "code",
   "execution_count": 2,
   "id": "f13d044c",
   "metadata": {},
   "outputs": [],
   "source": [
    "df = pd.read_csv('train_6BJx641.csv')\n",
    "df = df.set_index('datetime')"
   ]
  },
  {
   "cell_type": "code",
   "execution_count": 3,
   "id": "db02aec1",
   "metadata": {},
   "outputs": [],
   "source": [
    "le = LabelEncoder()\n",
    "le.fit(df['var2'])\n",
    "df['var2'] =le.transform(df['var2'])\n",
    "\n",
    "df = df.drop(['ID'], axis=1)"
   ]
  },
  {
   "cell_type": "markdown",
   "id": "c7a61006",
   "metadata": {},
   "source": [
    "# Feature engineering"
   ]
  },
  {
   "cell_type": "code",
   "execution_count": 4,
   "id": "98470ba2",
   "metadata": {},
   "outputs": [],
   "source": [
    "def polytime(data, target='', degree=2):\n",
    "    '''\n",
    "    Add the polynomials of features such as x, x**2 and x**3, etc.\n",
    "    \n",
    "    Args:\n",
    "      data (pandas DataFrame): the input DataFrame with the different features\n",
    "      target (str): The column name of the time-series forecasting.\n",
    "      degree (int): The degree of polynomial to be added for the features.\n",
    "    \n",
    "    Returns:\n",
    "      pandas DataFrame: The dataframe with the added polynomials of features.\n",
    "    \n",
    "    '''\n",
    "    size = data.shape[0]\n",
    "    for i in range(1,degree+1):\n",
    "        x = [j**i for j in range(size)]\n",
    "        data['x'+str(i)] = x\n",
    "    # Arrange the \"target\" column to the last column\n",
    "    column = list(data.columns)\n",
    "    column.remove(target)\n",
    "    column = column + [target]\n",
    "    data = data[column]\n",
    "    return data"
   ]
  },
  {
   "cell_type": "code",
   "execution_count": 5,
   "id": "84e4635e",
   "metadata": {},
   "outputs": [],
   "source": [
    "def lag_generation(data, target='', lag=10, num_lag=100):\n",
    "    '''\n",
    "    Add the time-lagged features of the time series with column name, \"target\"\n",
    "    \n",
    "    Args:\n",
    "      data (pandas DataFrame): the input DataFrame with the different features\n",
    "      target (str): The column name of the time-series forecasting.\n",
    "      lag (int): The time unit of lags for the time-lagged features.\n",
    "      num_lag (int): The number of time-lag features to be added.\n",
    "      \n",
    "    Returns:\n",
    "      pandas DataFrame: The dataframe with the added time-lagged features.\n",
    "    \n",
    "    '''\n",
    "    lag = [i for i in range(lag, num_lag, lag)]\n",
    "    for i in lag:\n",
    "        data['lag'+str(i)] = data[target].shift(i).fillna(0.0)\n",
    "    column = list(data.columns)\n",
    "    column.remove(target)\n",
    "    column = column + [target]\n",
    "    data = data[column]\n",
    "    return data"
   ]
  },
  {
   "cell_type": "code",
   "execution_count": 6,
   "id": "da39c49c",
   "metadata": {},
   "outputs": [],
   "source": [
    "def rollingwindow_generation(data, target='', window=10, num_window=5):\n",
    "    '''\n",
    "    Add the moving-average features of the time series with column name, \n",
    "    \"target\" with the different window size.\n",
    "    \n",
    "    Args:\n",
    "      data (pandas Dataframe): the input DataFrame with the different features.\n",
    "      target (str): The column name of the time-series forecasting.\n",
    "      window (int): The window size of moving average.\n",
    "      num_window (int): the number of moving-average features to be added, where \n",
    "                        the window size is multiple of window.\n",
    "                        \n",
    "    Returns:\n",
    "      pandas DataFrame: The dataframe with the added moving-average features.\n",
    "    \n",
    "    '''\n",
    "    rollingwindow = [i for i in range(2, (num_window+1)*window, window)]\n",
    "    for i in rollingwindow:\n",
    "        data['rollingwindow'+str(i)] = data[target].rolling(window=i).mean().fillna(0.0)\n",
    "    column = list(data.columns)\n",
    "    column.remove(target)\n",
    "    column = column + [target]\n",
    "    data = data[column]\n",
    "    return data"
   ]
  },
  {
   "cell_type": "code",
   "execution_count": 7,
   "id": "92012ab2",
   "metadata": {},
   "outputs": [],
   "source": [
    "df = polytime(df, target='electricity_consumption', degree=2)\n",
    "df = lag_generation(data=df, target='electricity_consumption', lag=5, num_lag=100)\n",
    "df = rollingwindow_generation(data=df, target='electricity_consumption', num_window=10)\n",
    "df['electricity_consumption2'] = df['electricity_consumption']"
   ]
  },
  {
   "cell_type": "markdown",
   "id": "ec43ac3f",
   "metadata": {},
   "source": [
    "Splitting train and test sets"
   ]
  },
  {
   "cell_type": "code",
   "execution_count": 8,
   "id": "af503cf7",
   "metadata": {},
   "outputs": [],
   "source": [
    "def train_test_split(data,split=.7):\n",
    "    '''\n",
    "    Split the time-series features with train and test date sets.\n",
    "    \n",
    "    Args:\n",
    "      data (pandas Dataframe): the input DataFrame.\n",
    "      split (float): the split ratio of train and test.\n",
    "      \n",
    "    Returns:\n",
    "      pandas DataFrame: the dataframes of train and test\n",
    "    \n",
    "    '''\n",
    "    train_size = int(len(data)*split)\n",
    "    train = data[0:train_size]\n",
    "    test = data[train_size:]\n",
    "    return train, test"
   ]
  },
  {
   "cell_type": "code",
   "execution_count": 9,
   "id": "5f471d91",
   "metadata": {},
   "outputs": [],
   "source": [
    "train, test = train_test_split(df,split=.8)"
   ]
  },
  {
   "cell_type": "markdown",
   "id": "2dd9ada5",
   "metadata": {},
   "source": [
    "Scaling the features in between 0 and 1"
   ]
  },
  {
   "cell_type": "code",
   "execution_count": 10,
   "id": "b1bef4d7",
   "metadata": {},
   "outputs": [],
   "source": [
    "def scalefeature(train, test):\n",
    "    '''\n",
    "    Scaling the features of the datasets of train and test\n",
    "    \n",
    "    Args:\n",
    "      train (pandas Dataframe): the input dataframe, train\n",
    "      test (pandas Dataframe): the input dataframe, test\n",
    "      \n",
    "    Returns:\n",
    "      numpy array: train and test with the scaling features\n",
    "      dictionary: scale with MinMaxScaler for the different features\n",
    "    \n",
    "    '''\n",
    "    \n",
    "    column = train.columns\n",
    "\n",
    "    scale = {}\n",
    "    temp = pd.DataFrame()\n",
    "    for col in column:\n",
    "        scale[col] = MinMaxScaler(feature_range=(0,1))\n",
    "        temp[col] = scale[col].fit_transform(train[col].values.reshape(-1,1)).reshape(-1)\n",
    "    train = temp.values\n",
    "\n",
    "    temp = pd.DataFrame()\n",
    "    for col in column:\n",
    "        temp[col] = scale[col].transform(test[col].values.reshape(-1,1)).reshape(-1)\n",
    "    test = temp.values\n",
    "    return train, test, scale"
   ]
  },
  {
   "cell_type": "code",
   "execution_count": 11,
   "id": "fcccf49d",
   "metadata": {},
   "outputs": [],
   "source": [
    "train, test, scale = scalefeature(train, test)"
   ]
  },
  {
   "cell_type": "markdown",
   "id": "00bf32bc",
   "metadata": {},
   "source": [
    "Prepare the features and label for the appropriate input shape of model training"
   ]
  },
  {
   "cell_type": "code",
   "execution_count": 12,
   "id": "f1256c4e",
   "metadata": {},
   "outputs": [],
   "source": [
    "def reshapefeaturelabel(data, input_steps, output_steps):\n",
    "    '''\n",
    "    Prepare the features X and label y for the input shape of the deep-learning model\n",
    "    \n",
    "    Args:\n",
    "      data (numpy array): the input features \n",
    "      input_steps (int): the number of steps for model training\n",
    "      output_steps (int): the number of steps for predictions\n",
    "      \n",
    "    Returns:\n",
    "      numpy array: feature X and label y are returned.\n",
    "      \n",
    "    '''\n",
    "    X, y = list(), list()\n",
    "    for i in range(len(data)):\n",
    "        endindex = i + input_steps\n",
    "        out_endindex = endindex + output_steps-1\n",
    "        if out_endindex > len(data):\n",
    "            break\n",
    "        data_x, data_y = data[i:endindex, :-1], data[endindex-1:out_endindex, -1]\n",
    "        X.append(data_x)\n",
    "        y.append(data_y)\n",
    "    return np.array(X), np.array(y)"
   ]
  },
  {
   "cell_type": "code",
   "execution_count": 13,
   "id": "7206de37",
   "metadata": {},
   "outputs": [],
   "source": [
    "def reshape_data(train, test):\n",
    "    '''\n",
    "    Reshape the numpy array (train and test) for model training.\n",
    "    \n",
    "    Args:\n",
    "      train (numpy array): train data set for reshaping.\n",
    "      test (numpy array): train data set for reshaping.\n",
    "      \n",
    "    Returns:\n",
    "      numpy array: train and test are returned after reshaping.\n",
    "    \n",
    "    '''\n",
    "    size = train.shape[1]\n",
    "\n",
    "    trainlist = []\n",
    "    testlist = []\n",
    "\n",
    "    for i in range(size):\n",
    "        trainlist.append(train[:,i].reshape((len(train[:,i]),1)))\n",
    "        testlist.append(test[:,i].reshape((len(test[:,i]),1)))\n",
    "\n",
    "    train = np.hstack(tuple(trainlist))\n",
    "    test = np.hstack(tuple(testlist))\n",
    "    return train, test"
   ]
  },
  {
   "cell_type": "code",
   "execution_count": 14,
   "id": "0e82a417",
   "metadata": {},
   "outputs": [],
   "source": [
    "train, test = reshape_data(train, test)"
   ]
  },
  {
   "cell_type": "code",
   "execution_count": 15,
   "id": "2b34beac",
   "metadata": {},
   "outputs": [],
   "source": [
    "input_steps, output_steps = 10, 48"
   ]
  },
  {
   "cell_type": "code",
   "execution_count": 16,
   "id": "6aa7078b",
   "metadata": {},
   "outputs": [],
   "source": [
    "train_X, train_y = reshapefeaturelabel(train, input_steps, output_steps)\n",
    "test_X, test_y = reshapefeaturelabel(test, input_steps, output_steps)"
   ]
  },
  {
   "cell_type": "markdown",
   "id": "b440184c",
   "metadata": {},
   "source": [
    "# Dense Model"
   ]
  },
  {
   "cell_type": "code",
   "execution_count": 17,
   "id": "0a397cb3",
   "metadata": {},
   "outputs": [],
   "source": [
    "#Number of epochs\n",
    "epochs = 50 \n",
    "\n",
    "# batch size\n",
    "batch_size = 32"
   ]
  },
  {
   "cell_type": "code",
   "execution_count": 18,
   "id": "6cc8c2e6",
   "metadata": {},
   "outputs": [
    {
     "name": "stdout",
     "output_type": "stream",
     "text": [
      "Model: \"sequential\"\n",
      "_________________________________________________________________\n",
      "Layer (type)                 Output Shape              Param #   \n",
      "=================================================================\n",
      "dense (Dense)                (None, 20)                7620      \n",
      "_________________________________________________________________\n",
      "dropout (Dropout)            (None, 20)                0         \n",
      "_________________________________________________________________\n",
      "dense_1 (Dense)              (None, 10)                210       \n",
      "_________________________________________________________________\n",
      "dropout_1 (Dropout)          (None, 10)                0         \n",
      "_________________________________________________________________\n",
      "dense_2 (Dense)              (None, 10)                110       \n",
      "_________________________________________________________________\n",
      "dropout_2 (Dropout)          (None, 10)                0         \n",
      "_________________________________________________________________\n",
      "dense_3 (Dense)              (None, 48)                528       \n",
      "=================================================================\n",
      "Total params: 8,468\n",
      "Trainable params: 8,468\n",
      "Non-trainable params: 0\n",
      "_________________________________________________________________\n",
      "Training time:  25.706785440444946\n"
     ]
    }
   ],
   "source": [
    "num_features = train_X.shape[2]\n",
    "\n",
    "num_dim = train_X.shape[1] * train_X.shape[2]\n",
    "train_X = train_X.reshape((train_X.shape[0], num_dim))\n",
    "test_X = test_X.reshape((test_X.shape[0], num_dim))\n",
    "\n",
    "model = dense_model(num_dim=num_dim, output_steps=output_steps)\n",
    "\n",
    "start = time()\n",
    "history = model.fit(train_X, train_y, epochs=epochs, batch_size=batch_size, verbose=0, shuffle=False)\n",
    "end = time()\n",
    "print(\"Training time: \",end - start)\n",
    "\n",
    "testPredict = model.predict(test_X)"
   ]
  },
  {
   "cell_type": "code",
   "execution_count": 19,
   "id": "ded74c3a",
   "metadata": {},
   "outputs": [],
   "source": [
    "def calculation_acurracy(rmse, mae, model_name, test_y, testPredict, output_steps, scaler):\n",
    "    '''\n",
    "    Calculation of accuracy of predictions using the metrics, root mean squared error and\n",
    "    mean absolute error\n",
    "    \n",
    "    Args:\n",
    "      rmse (dict): Stores the root mean squared error for the different models.\n",
    "      mae (dict): Stores the mean absolute error for the different models.\n",
    "      model_name (str): the model used for prediction.\n",
    "      test_y (numpy array): test data for out-of-sampling for the predictions with \n",
    "                            the n-step output.\n",
    "      testPredict (numpy array): predictions from the model with the n-step output.\n",
    "      n_steps_out (int): the number of steps for predictions.\n",
    "      scaler (dict): the dictationary stores the scaler of the time-series.\n",
    "      \n",
    "    \n",
    "    Returns:\n",
    "      dict: the dictionaries of rmse and mae are returned.\n",
    "    \n",
    "    '''\n",
    "    \n",
    "    rmse[model_name] = []\n",
    "    mae[model_name] = []\n",
    "    testPredict = model.predict(test_X)\n",
    "    for i in range(output_steps):\n",
    "        truevalue = scaler.inverse_transform(test_y[:,i].reshape(-1,1)).reshape(-1)\n",
    "        predictvalue = scaler.inverse_transform(testPredict[:,i].reshape(-1,1)).reshape(-1)\n",
    "        rmse[model_name].append(mean_squared_error(truevalue, predictvalue, squared=False))\n",
    "        mae[model_name].append(mean_absolute_error(truevalue, predictvalue))\n",
    "    return rmse, mae"
   ]
  },
  {
   "cell_type": "code",
   "execution_count": 20,
   "id": "f1affbbe",
   "metadata": {},
   "outputs": [],
   "source": [
    "rmse = {}\n",
    "mae = {}\n",
    "rmse, mae = calculation_acurracy(rmse, mae, \"dense\", test_y, testPredict, output_steps, scale['electricity_consumption'])"
   ]
  },
  {
   "cell_type": "markdown",
   "id": "d81235e0",
   "metadata": {},
   "source": [
    "# LSTM model"
   ]
  },
  {
   "cell_type": "code",
   "execution_count": 21,
   "id": "52190949",
   "metadata": {},
   "outputs": [
    {
     "name": "stdout",
     "output_type": "stream",
     "text": [
      "Model: \"sequential_1\"\n",
      "_________________________________________________________________\n",
      "Layer (type)                 Output Shape              Param #   \n",
      "=================================================================\n",
      "lstm (LSTM)                  (None, 10)                1960      \n",
      "_________________________________________________________________\n",
      "dense_4 (Dense)              (None, 5)                 55        \n",
      "_________________________________________________________________\n",
      "dense_5 (Dense)              (None, 48)                288       \n",
      "=================================================================\n",
      "Total params: 2,303\n",
      "Trainable params: 2,303\n",
      "Non-trainable params: 0\n",
      "_________________________________________________________________\n",
      "Training time:  100.21307587623596\n"
     ]
    }
   ],
   "source": [
    "train_X, train_y = reshapefeaturelabel(train, input_steps, output_steps)\n",
    "test_X, test_y = reshapefeaturelabel(test, input_steps, output_steps)\n",
    "\n",
    "num_features = train_X.shape[2]\n",
    "\n",
    "train_X = train_X.reshape((train_X.shape[0], train_X.shape[1], num_features))\n",
    "test_X = test_X.reshape((test_X.shape[0], test_X.shape[1], num_features))\n",
    "\n",
    "model = lstm_model(input_steps=input_steps, num_features=num_features, output_steps=output_steps)\n",
    "\n",
    "start = time()\n",
    "history = model.fit(train_X, train_y, epochs=epochs, batch_size=batch_size, verbose=0, shuffle=False)\n",
    "end = time()\n",
    "print(\"Training time: \",end - start)\n",
    "\n",
    "testPredict = model.predict(test_X)"
   ]
  },
  {
   "cell_type": "code",
   "execution_count": 22,
   "id": "a26ca3e7",
   "metadata": {},
   "outputs": [],
   "source": [
    "rmse, mae = calculation_acurracy(rmse, mae, \"lstm\", test_y, testPredict, output_steps, scale['electricity_consumption'])"
   ]
  },
  {
   "cell_type": "markdown",
   "id": "a53efb6a",
   "metadata": {},
   "source": [
    "# CNN model"
   ]
  },
  {
   "cell_type": "code",
   "execution_count": 23,
   "id": "8eff2912",
   "metadata": {},
   "outputs": [
    {
     "name": "stdout",
     "output_type": "stream",
     "text": [
      "Model: \"sequential_2\"\n",
      "_________________________________________________________________\n",
      "Layer (type)                 Output Shape              Param #   \n",
      "=================================================================\n",
      "conv1d (Conv1D)              (None, 10, 64)            2496      \n",
      "_________________________________________________________________\n",
      "max_pooling1d (MaxPooling1D) (None, 5, 64)             0         \n",
      "_________________________________________________________________\n",
      "flatten (Flatten)            (None, 320)               0         \n",
      "_________________________________________________________________\n",
      "dense_6 (Dense)              (None, 10)                3210      \n",
      "_________________________________________________________________\n",
      "dense_7 (Dense)              (None, 48)                528       \n",
      "=================================================================\n",
      "Total params: 6,234\n",
      "Trainable params: 6,234\n",
      "Non-trainable params: 0\n",
      "_________________________________________________________________\n",
      "Training time:  38.18264985084534\n"
     ]
    }
   ],
   "source": [
    "train_X, train_y = reshapefeaturelabel(train, input_steps, output_steps)\n",
    "test_X, test_y = reshapefeaturelabel(test, input_steps, output_steps)\n",
    "\n",
    "num_features = train_X.shape[2]\n",
    "\n",
    "train_X = train_X.reshape((train_X.shape[0], train_X.shape[1], num_features))\n",
    "test_X = test_X.reshape((test_X.shape[0], test_X.shape[1], num_features))\n",
    "\n",
    "model = cnn_model(input_steps=input_steps, num_features=num_features, output_steps=output_steps)\n",
    "\n",
    "start = time()\n",
    "history = model.fit(train_X, train_y, epochs=epochs, batch_size=batch_size, verbose=0, shuffle=False)\n",
    "end = time()\n",
    "print(\"Training time: \",end - start)\n",
    "\n",
    "testPredict = model.predict(test_X)"
   ]
  },
  {
   "cell_type": "code",
   "execution_count": 24,
   "id": "16d340e8",
   "metadata": {},
   "outputs": [],
   "source": [
    "rmse, mae = calculation_acurracy(rmse, mae, \"cnn\", test_y, testPredict, output_steps, scale['electricity_consumption'])"
   ]
  },
  {
   "cell_type": "markdown",
   "id": "87bc9196",
   "metadata": {},
   "source": [
    "# CNN-LSTM model"
   ]
  },
  {
   "cell_type": "code",
   "execution_count": 25,
   "id": "e4344c9b",
   "metadata": {},
   "outputs": [],
   "source": [
    "input_steps = 25\n",
    "num_seq = 5\n",
    "num_steps = 5"
   ]
  },
  {
   "cell_type": "code",
   "execution_count": 26,
   "id": "a5461db6",
   "metadata": {},
   "outputs": [
    {
     "name": "stdout",
     "output_type": "stream",
     "text": [
      "Model: \"sequential_3\"\n",
      "_________________________________________________________________\n",
      "Layer (type)                 Output Shape              Param #   \n",
      "=================================================================\n",
      "time_distributed (TimeDistri (None, None, 5, 64)       2496      \n",
      "_________________________________________________________________\n",
      "time_distributed_1 (TimeDist (None, None, 2, 64)       0         \n",
      "_________________________________________________________________\n",
      "time_distributed_2 (TimeDist (None, None, 128)         0         \n",
      "_________________________________________________________________\n",
      "lstm_1 (LSTM)                (None, 20)                11920     \n",
      "_________________________________________________________________\n",
      "dropout_3 (Dropout)          (None, 20)                0         \n",
      "_________________________________________________________________\n",
      "dense_8 (Dense)              (None, 48)                1008      \n",
      "=================================================================\n",
      "Total params: 15,424\n",
      "Trainable params: 15,424\n",
      "Non-trainable params: 0\n",
      "_________________________________________________________________\n",
      "Training time:  104.91387867927551\n"
     ]
    }
   ],
   "source": [
    "train_X, train_y = reshapefeaturelabel(train, input_steps, output_steps)\n",
    "test_X, test_y = reshapefeaturelabel(test, input_steps, output_steps)\n",
    "\n",
    "num_features = train_X.shape[2]\n",
    "\n",
    "train_X = train_X.reshape((train_X.shape[0], num_seq, num_steps, num_features))\n",
    "test_X = test_X.reshape((test_X.shape[0], num_seq, num_steps, num_features))\n",
    "\n",
    "model = cnnlstm_model(num_steps=num_steps, num_features=num_features, output_steps=output_steps)\n",
    "\n",
    "start = time()\n",
    "history = model.fit(train_X, train_y, epochs=epochs, batch_size=batch_size, verbose=0, shuffle=False)\n",
    "end = time()\n",
    "print(\"Training time: \",end - start)\n",
    "\n",
    "testPredict = model.predict(test_X)"
   ]
  },
  {
   "cell_type": "code",
   "execution_count": 27,
   "id": "2cdb81a0",
   "metadata": {},
   "outputs": [],
   "source": [
    "rmse, mae = calculation_acurracy(rmse, mae, \"cnn-lstm\", test_y, testPredict, output_steps, scale['electricity_consumption'])"
   ]
  },
  {
   "cell_type": "markdown",
   "id": "bda96bea",
   "metadata": {},
   "source": [
    "# Comparsion of predictions of different models"
   ]
  },
  {
   "cell_type": "code",
   "execution_count": 28,
   "id": "83dc7f29",
   "metadata": {},
   "outputs": [
    {
     "data": {
      "text/plain": [
       "(1.0, 48.0)"
      ]
     },
     "execution_count": 28,
     "metadata": {},
     "output_type": "execute_result"
    },
    {
     "data": {
      "image/png": "[encoded data removed]",
      "text/plain": [
       "<Figure size 864x576 with 1 Axes>"
      ]
     },
     "metadata": {
      "needs_background": "light"
     },
     "output_type": "display_data"
    }
   ],
   "source": [
    "temp = pd.DataFrame(rmse)\n",
    "index = [i for i in range(1, output_steps+1)]\n",
    "temp.index = index\n",
    "\n",
    "temp.plot(marker=\"*\", title='RMSE of different models', figsize=(12,8))\n",
    "plt.xlabel('number of prediction steps')\n",
    "plt.ylabel('rmse')\n",
    "plt.xlim([1,output_steps])"
   ]
  },
  {
   "cell_type": "code",
   "execution_count": 29,
   "id": "b75e6dbe",
   "metadata": {},
   "outputs": [
    {
     "data": {
      "text/plain": [
       "(1.0, 48.0)"
      ]
     },
     "execution_count": 29,
     "metadata": {},
     "output_type": "execute_result"
    },
    {
     "data": {
      "image/png": "[encoded data removed]",
      "text/plain": [
       "<Figure size 864x576 with 1 Axes>"
      ]
     },
     "metadata": {
      "needs_background": "light"
     },
     "output_type": "display_data"
    }
   ],
   "source": [
    "temp = pd.DataFrame(mae)\n",
    "index = [i for i in range(1, output_steps+1)]\n",
    "temp.index = index\n",
    "\n",
    "temp.plot(marker=\"*\", title='MAE of different models', figsize=(12,8))\n",
    "plt.xlabel('number of prediction steps')\n",
    "plt.ylabel('mae')\n",
    "plt.xlim([1,output_steps])"
   ]
  },
  {
   "cell_type": "markdown",
   "id": "68ce2f15",
   "metadata": {},
   "source": [
    "# Summary"
   ]
  },
  {
   "cell_type": "markdown",
   "id": "90f57dda",
   "metadata": {},
   "source": [
    "We compare the predictions using the different deep-learning models. They provide the predictions with a higher accuracy in a shorter term. The accuracy of predictions becomes lower in a longer term. "
   ]
  }
 ],
 "metadata": {
  "kernelspec": {
   "display_name": "Python 3 (ipykernel)",
   "language": "python",
   "name": "python3"
  },
  "language_info": {
   "codemirror_mode": {
    "name": "ipython",
    "version": 3
   },
   "file_extension": ".py",
   "mimetype": "text/x-python",
   "name": "python",
   "nbconvert_exporter": "python",
   "pygments_lexer": "ipython3",
   "version": "3.7.9"
  }
 },
 "nbformat": 4,
 "nbformat_minor": 5
}
