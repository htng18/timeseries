{
 "cells": [
  {
   "cell_type": "markdown",
   "id": "43849e6f",
   "metadata": {},
   "source": [
    "# Time Series Forecasting on Electricity consumption"
   ]
  },
  {
   "cell_type": "markdown",
   "id": "be91643e",
   "metadata": {},
   "source": [
    "Dataset: https://www.kaggle.com/aditya230688/jhts-forecasting"
   ]
  },
  {
   "cell_type": "markdown",
   "id": "a8aaed2f",
   "metadata": {},
   "source": [
    "We adopt the time-series forecasting by decomposing the time-series into the parts of trend and seasonal. \n",
    "We perform the predictions of the trend and seasonal using the different deep-learning models. \n",
    "We model the residual by substracting the trend and seasonal from the original data and perform the predictions.\n",
    "We gather the predictions from the parts of trend, seasonal and residual and form the time-series forecasting.\n",
    "<br>\n",
    "<br>\n",
    "We compare the performance of predictions using the different DL models."
   ]
  },
  {
   "cell_type": "code",
   "execution_count": 1,
   "id": "17a4a19b",
   "metadata": {},
   "outputs": [],
   "source": [
    "import pandas as pd\n",
    "import numpy as np\n",
    "from time import time\n",
    "from sklearn.preprocessing import MinMaxScaler, LabelEncoder\n",
    "from sklearn.metrics import mean_squared_error, mean_absolute_error\n",
    "import matplotlib.pyplot as plt\n",
    "\n",
    "from deeplearning_model import dense_model, lstm_model, cnn_model, cnnlstm_model"
   ]
  },
  {
   "cell_type": "markdown",
   "id": "6031a175",
   "metadata": {},
   "source": [
    "Load the data (https://www.kaggle.com/aditya230688/jhts-forecasting)"
   ]
  },
  {
   "cell_type": "code",
   "execution_count": 2,
   "id": "e7e63214",
   "metadata": {},
   "outputs": [],
   "source": [
    "df = pd.read_csv('train_6BJx641.csv')\n",
    "df = df.set_index('datetime')\n",
    "df.index = pd.to_datetime(df.index)"
   ]
  },
  {
   "cell_type": "code",
   "execution_count": 3,
   "id": "b85c7ec7",
   "metadata": {},
   "outputs": [],
   "source": [
    "# trend.csv, seasonal.csv and residual.csv created from Data exploration.ipynb\n",
    "trend = pd.read_csv('trend.csv', index_col=0)\n",
    "seasonal = pd.read_csv('seasonal.csv', index_col=0)\n",
    "resid = pd.read_csv('residual.csv', index_col=0)\n",
    "trend.index = pd.to_datetime(trend.index)\n",
    "seasonal.index = pd.to_datetime(seasonal.index)\n",
    "resid.index = pd.to_datetime(resid.index)"
   ]
  },
  {
   "cell_type": "markdown",
   "id": "d39d6fa7",
   "metadata": {},
   "source": [
    "# Feature engineering"
   ]
  },
  {
   "cell_type": "code",
   "execution_count": 4,
   "id": "31d0c63d",
   "metadata": {},
   "outputs": [],
   "source": [
    "def polytime(data, target='', degree=2):\n",
    "    '''\n",
    "    Add the polynomials of features such as x, x**2 and x**3, etc.\n",
    "    \n",
    "    Args:\n",
    "      data (pandas DataFrame): the input DataFrame with the different features\n",
    "      target (str): The column name of the time-series forecasting.\n",
    "      degree (int): The degree of polynomial to be added for the features.\n",
    "    \n",
    "    Returns:\n",
    "      pandas DataFrame: The dataframe with the added polynomials of features.\n",
    "    \n",
    "    '''\n",
    "    size = data.shape[0]\n",
    "    for i in range(1,degree+1):\n",
    "        x = [j**i for j in range(size)]\n",
    "        data['x'+str(i)] = x\n",
    "    # Arrange the \"target\" column to the last column\n",
    "    column = list(data.columns)\n",
    "    column.remove(target)\n",
    "    column = column + [target]\n",
    "    data = data[column]\n",
    "    return data"
   ]
  },
  {
   "cell_type": "code",
   "execution_count": 5,
   "id": "c6141dab",
   "metadata": {},
   "outputs": [],
   "source": [
    "def lag_generation(data, target='', lag=10, num_lag=100):\n",
    "    '''\n",
    "    Add the time-lagged features of the time series with column name, \"target\"\n",
    "    \n",
    "    Args:\n",
    "      data (pandas DataFrame): the input DataFrame with the different features\n",
    "      target (str): The column name of the time-series forecasting.\n",
    "      lag (int): The time unit of lags for the time-lagged features.\n",
    "      num_lag (int): The number of time-lag features to be added.\n",
    "      \n",
    "    Returns:\n",
    "      pandas DataFrame: The dataframe with the added time-lagged features.\n",
    "    \n",
    "    '''\n",
    "    lag = [i for i in range(lag, num_lag, lag)]\n",
    "    for i in lag:\n",
    "        data['lag'+str(i)] = data[target].shift(i).fillna(0.0)\n",
    "    column = list(data.columns)\n",
    "    column.remove(target)\n",
    "    column = column + [target]\n",
    "    data = data[column]\n",
    "    return data"
   ]
  },
  {
   "cell_type": "code",
   "execution_count": 6,
   "id": "820c6886",
   "metadata": {},
   "outputs": [],
   "source": [
    "def rollingwindow_generation(data, target='', window=10, num_window=5):\n",
    "    '''\n",
    "    Add the moving-average features of the time series with column name, \n",
    "    \"target\" with the different window size.\n",
    "    \n",
    "    Args:\n",
    "      data (pandas Dataframe): the input DataFrame with the different features.\n",
    "      target (str): The column name of the time-series forecasting.\n",
    "      window (int): The window size of moving average.\n",
    "      num_window (int): the number of moving-average features to be added, where \n",
    "                        the window size is multiple of window.\n",
    "                        \n",
    "    Returns:\n",
    "      pandas DataFrame: The dataframe with the added moving-average features.\n",
    "    \n",
    "    '''\n",
    "    rollingwindow = [i for i in range(2, (num_window+1)*window, window)]\n",
    "    for i in rollingwindow:\n",
    "        data['rollingwindow'+str(i)] = data[target].rolling(window=i).mean().fillna(0.0)\n",
    "    column = list(data.columns)\n",
    "    column.remove(target)\n",
    "    column = column + [target]\n",
    "    data = data[column]\n",
    "    return data"
   ]
  },
  {
   "cell_type": "code",
   "execution_count": 7,
   "id": "1490b4b7",
   "metadata": {},
   "outputs": [],
   "source": [
    "trend = polytime(trend, target='electricity_consumption', degree=2)\n",
    "trend = lag_generation(data=trend, target='electricity_consumption', lag=5, num_lag=100)\n",
    "trend = rollingwindow_generation(data=trend, target='electricity_consumption', num_window=10)\n",
    "trend['electricity_consumption2'] = trend['electricity_consumption']"
   ]
  },
  {
   "cell_type": "code",
   "execution_count": 8,
   "id": "21032c33",
   "metadata": {},
   "outputs": [],
   "source": [
    "seasonal = polytime(seasonal, target='electricity_consumption', degree=3)\n",
    "seasonal = lag_generation(data=seasonal, target='electricity_consumption', lag=5, num_lag=100)\n",
    "seasonal['electricity_consumption2'] = seasonal['electricity_consumption']"
   ]
  },
  {
   "cell_type": "code",
   "execution_count": 9,
   "id": "56ee6a34",
   "metadata": {},
   "outputs": [],
   "source": [
    "resid = lag_generation(data=resid, target='electricity_consumption', lag=5, num_lag=100)\n",
    "resid = rollingwindow_generation(data=resid, target='electricity_consumption', num_window=10)\n",
    "resid['electricity_consumption2'] = resid['electricity_consumption']"
   ]
  },
  {
   "cell_type": "markdown",
   "id": "8815944e",
   "metadata": {},
   "source": [
    "Splitting train and test sets"
   ]
  },
  {
   "cell_type": "code",
   "execution_count": 10,
   "id": "af503cf7",
   "metadata": {},
   "outputs": [],
   "source": [
    "def train_test_split(data,split=.7):\n",
    "    '''\n",
    "    Split the time-series features with train and test date sets.\n",
    "    \n",
    "    Args:\n",
    "      data (pandas Dataframe): the input DataFrame.\n",
    "      split (float): the split ratio of train and test.\n",
    "      \n",
    "    Returns:\n",
    "      pandas DataFrame: the dataframes of train and test\n",
    "    \n",
    "    '''\n",
    "    train_size = int(len(data)*split)\n",
    "    train = data[0:train_size]\n",
    "    test = data[train_size:]\n",
    "    return train, test"
   ]
  },
  {
   "cell_type": "markdown",
   "id": "9704b8eb",
   "metadata": {},
   "source": [
    "Scaling the features in between 0 and 1"
   ]
  },
  {
   "cell_type": "code",
   "execution_count": 11,
   "id": "8f5573dc",
   "metadata": {},
   "outputs": [],
   "source": [
    "def scalefeature(train, test):\n",
    "    '''\n",
    "    Scaling the features of the datasets of train and test\n",
    "    \n",
    "    Args:\n",
    "      train (pandas Dataframe): the input dataframe, train\n",
    "      test (pandas Dataframe): the input dataframe, test\n",
    "      \n",
    "    Returns:\n",
    "      numpy array: train and test with the scaling features\n",
    "      dictionary: scale with MinMaxScaler for the different features\n",
    "    \n",
    "    '''\n",
    "    \n",
    "    column = train.columns\n",
    "\n",
    "    scale = {}\n",
    "    temp = pd.DataFrame()\n",
    "    for col in column:\n",
    "        scale[col] = MinMaxScaler(feature_range=(0,1))\n",
    "        temp[col] = scale[col].fit_transform(train[col].values.reshape(-1,1)).reshape(-1)\n",
    "    train = temp.values\n",
    "\n",
    "    temp = pd.DataFrame()\n",
    "    for col in column:\n",
    "        temp[col] = scale[col].transform(test[col].values.reshape(-1,1)).reshape(-1)\n",
    "    test = temp.values\n",
    "    return train, test, scale"
   ]
  },
  {
   "cell_type": "code",
   "execution_count": 12,
   "id": "82886374",
   "metadata": {},
   "outputs": [],
   "source": [
    "trend_train, trend_test = train_test_split(trend, split=.8)\n",
    "splitsize = trend_train.shape[0]\n",
    "trend_train, trend_test, trend_scale = scalefeature(trend_train, trend_test)\n",
    "\n",
    "seasonal_train, seasonal_test = train_test_split(seasonal,split=.8)\n",
    "seasonal_train, seasonal_test, seasonal_scale = scalefeature(seasonal_train, seasonal_test)"
   ]
  },
  {
   "cell_type": "markdown",
   "id": "7a44a40b",
   "metadata": {},
   "source": [
    "Prepare the features and label for the appropriate input shape of model training"
   ]
  },
  {
   "cell_type": "code",
   "execution_count": 13,
   "id": "77147ff1",
   "metadata": {},
   "outputs": [],
   "source": [
    "def reshapefeaturelabel(data, input_steps, output_steps):\n",
    "    '''\n",
    "    Prepare the features X and label y for the input shape of the deep-learning model\n",
    "    \n",
    "    Args:\n",
    "      data (numpy array): the input features \n",
    "      input_steps (int): the number of steps for model training\n",
    "      output_steps (int): the number of steps for predictions\n",
    "      \n",
    "    Returns:\n",
    "      numpy array: feature X and label y are returned.\n",
    "      \n",
    "    '''\n",
    "    X, y = list(), list()\n",
    "    for i in range(len(data)):\n",
    "        endindex = i + input_steps\n",
    "        out_endindex = endindex + output_steps-1\n",
    "        if out_endindex > len(data):\n",
    "            break\n",
    "        data_x, data_y = data[i:endindex, :-1], data[endindex-1:out_endindex, -1]\n",
    "        X.append(data_x)\n",
    "        y.append(data_y)\n",
    "    return np.array(X), np.array(y)"
   ]
  },
  {
   "cell_type": "code",
   "execution_count": 14,
   "id": "e7364745",
   "metadata": {},
   "outputs": [],
   "source": [
    "def reshape_data(train, test):\n",
    "    '''\n",
    "    Reshape the numpy array (train and test) for model training.\n",
    "    \n",
    "    Args:\n",
    "      train (numpy array): train data set for reshaping.\n",
    "      test (numpy array): train data set for reshaping.\n",
    "      \n",
    "    Returns:\n",
    "      numpy array: train and test are returned after reshaping.\n",
    "    \n",
    "    '''\n",
    "    size = train.shape[1]\n",
    "\n",
    "    trainlist = []\n",
    "    testlist = []\n",
    "\n",
    "    for i in range(size):\n",
    "        trainlist.append(train[:,i].reshape((len(train[:,i]),1)))\n",
    "        testlist.append(test[:,i].reshape((len(test[:,i]),1)))\n",
    "\n",
    "    train = np.hstack(tuple(trainlist))\n",
    "    test = np.hstack(tuple(testlist))\n",
    "    return train, test"
   ]
  },
  {
   "cell_type": "code",
   "execution_count": 15,
   "id": "52de6396",
   "metadata": {},
   "outputs": [],
   "source": [
    "trend_train, trend_test = reshape_data(trend_train, trend_test)\n",
    "seasonal_train, seasonal_test = reshape_data(seasonal_train, seasonal_test)"
   ]
  },
  {
   "cell_type": "markdown",
   "id": "21d8a841",
   "metadata": {},
   "source": [
    "# Dense Model "
   ]
  },
  {
   "cell_type": "code",
   "execution_count": 16,
   "id": "0f62881a",
   "metadata": {},
   "outputs": [],
   "source": [
    "# input_steps - number of steps for predictions for step\n",
    "# out_steps - number of steps for predictions\n",
    "input_steps, output_steps = 10, 48"
   ]
  },
  {
   "cell_type": "code",
   "execution_count": 17,
   "id": "cde7c933",
   "metadata": {},
   "outputs": [],
   "source": [
    "#Number of epochs\n",
    "epochs = 50\n",
    "\n",
    "# batch size\n",
    "batch_size = 32"
   ]
  },
  {
   "cell_type": "markdown",
   "id": "98506a5d",
   "metadata": {},
   "source": [
    "Trend part"
   ]
  },
  {
   "cell_type": "code",
   "execution_count": 18,
   "id": "28d79493",
   "metadata": {},
   "outputs": [
    {
     "name": "stdout",
     "output_type": "stream",
     "text": [
      "Model: \"sequential\"\n",
      "_________________________________________________________________\n",
      "Layer (type)                 Output Shape              Param #   \n",
      "=================================================================\n",
      "dense (Dense)                (None, 20)                7620      \n",
      "_________________________________________________________________\n",
      "dropout (Dropout)            (None, 20)                0         \n",
      "_________________________________________________________________\n",
      "dense_1 (Dense)              (None, 10)                210       \n",
      "_________________________________________________________________\n",
      "dropout_1 (Dropout)          (None, 10)                0         \n",
      "_________________________________________________________________\n",
      "dense_2 (Dense)              (None, 10)                110       \n",
      "_________________________________________________________________\n",
      "dropout_2 (Dropout)          (None, 10)                0         \n",
      "_________________________________________________________________\n",
      "dense_3 (Dense)              (None, 48)                528       \n",
      "=================================================================\n",
      "Total params: 8,468\n",
      "Trainable params: 8,468\n",
      "Non-trainable params: 0\n",
      "_________________________________________________________________\n",
      "Training time:  25.31110167503357\n"
     ]
    }
   ],
   "source": [
    "train_X, train_y = reshapefeaturelabel(trend_train, input_steps, output_steps)\n",
    "test_X, test_y = reshapefeaturelabel(trend_test, input_steps, output_steps)\n",
    "\n",
    "num_features = train_X.shape[2]\n",
    "\n",
    "num_dim = train_X.shape[1] * train_X.shape[2]\n",
    "train_X = train_X.reshape((train_X.shape[0], num_dim))\n",
    "test_X = test_X.reshape((test_X.shape[0], num_dim))\n",
    "\n",
    "model = dense_model(num_dim=num_dim, output_steps=output_steps)\n",
    "\n",
    "start = time()\n",
    "history = model.fit(train_X, train_y, epochs=epochs, batch_size=batch_size, verbose=0, shuffle=False)\n",
    "end = time()\n",
    "print(\"Training time: \",end - start)\n",
    "\n",
    "testPredict = model.predict(test_X)\n",
    "trendpred = {}\n",
    "for i in range(output_steps):\n",
    "    truevalue = trend_scale['electricity_consumption'].inverse_transform(test_y[:,i].reshape(-1,1)).reshape(-1)\n",
    "    predictvalue = trend_scale['electricity_consumption'].inverse_transform(testPredict[:,i].reshape(-1,1)).reshape(-1)\n",
    "    trendpred[i] = predictvalue\n",
    "    \n",
    "trendtrainpred = {}\n",
    "trainPredict = model.predict(train_X)\n",
    "for i in range(output_steps):\n",
    "    truevalue = trend_scale['electricity_consumption'].inverse_transform(train_y[:,i].reshape(-1,1)).reshape(-1)\n",
    "    predictvalue = trend_scale['electricity_consumption'].inverse_transform(trainPredict[:,i].reshape(-1,1)).reshape(-1)\n",
    "    trendtrainpred[i] = predictvalue"
   ]
  },
  {
   "cell_type": "markdown",
   "id": "7ced15d0",
   "metadata": {},
   "source": [
    "Seasonal part"
   ]
  },
  {
   "cell_type": "code",
   "execution_count": 19,
   "id": "8e22613c",
   "metadata": {},
   "outputs": [
    {
     "name": "stdout",
     "output_type": "stream",
     "text": [
      "Model: \"sequential_1\"\n",
      "_________________________________________________________________\n",
      "Layer (type)                 Output Shape              Param #   \n",
      "=================================================================\n",
      "dense_4 (Dense)              (None, 20)                5620      \n",
      "_________________________________________________________________\n",
      "dropout_3 (Dropout)          (None, 20)                0         \n",
      "_________________________________________________________________\n",
      "dense_5 (Dense)              (None, 10)                210       \n",
      "_________________________________________________________________\n",
      "dropout_4 (Dropout)          (None, 10)                0         \n",
      "_________________________________________________________________\n",
      "dense_6 (Dense)              (None, 10)                110       \n",
      "_________________________________________________________________\n",
      "dropout_5 (Dropout)          (None, 10)                0         \n",
      "_________________________________________________________________\n",
      "dense_7 (Dense)              (None, 48)                528       \n",
      "=================================================================\n",
      "Total params: 6,468\n",
      "Trainable params: 6,468\n",
      "Non-trainable params: 0\n",
      "_________________________________________________________________\n",
      "Training time:  26.754411220550537\n"
     ]
    }
   ],
   "source": [
    "train_X, train_y = reshapefeaturelabel(seasonal_train, input_steps, output_steps)\n",
    "test_X, test_y = reshapefeaturelabel(seasonal_test, input_steps, output_steps)\n",
    "\n",
    "num_features = train_X.shape[2]\n",
    "\n",
    "num_dim = train_X.shape[1] * train_X.shape[2]\n",
    "train_X = train_X.reshape((train_X.shape[0], num_dim))\n",
    "test_X = test_X.reshape((test_X.shape[0], num_dim))\n",
    "\n",
    "model = dense_model(num_dim=num_dim, output_steps=output_steps)\n",
    "\n",
    "start = time()\n",
    "history = model.fit(train_X, train_y, epochs=epochs, batch_size=batch_size, verbose=0, shuffle=False)\n",
    "end = time()\n",
    "print(\"Training time: \",end - start)\n",
    "\n",
    "testPredict = model.predict(test_X)\n",
    "seasonalpred = {}\n",
    "for i in range(output_steps):\n",
    "    truevalue = seasonal_scale['electricity_consumption'].inverse_transform(test_y[:,i].reshape(-1,1)).reshape(-1)\n",
    "    predictvalue = seasonal_scale['electricity_consumption'].inverse_transform(testPredict[:,i].reshape(-1,1)).reshape(-1)\n",
    "    seasonalpred[i] = predictvalue\n",
    "    \n",
    "seasonaltrainpred = {}\n",
    "trainPredict = model.predict(train_X)\n",
    "for i in range(output_steps):\n",
    "    truevalue = seasonal_scale['electricity_consumption'].inverse_transform(train_y[:,i].reshape(-1,1)).reshape(-1)\n",
    "    predictvalue = seasonal_scale['electricity_consumption'].inverse_transform(trainPredict[:,i].reshape(-1,1)).reshape(-1)\n",
    "    seasonaltrainpred[i] = predictvalue"
   ]
  },
  {
   "cell_type": "markdown",
   "id": "a2a3cdb6",
   "metadata": {},
   "source": [
    "Residual part"
   ]
  },
  {
   "cell_type": "code",
   "execution_count": 20,
   "id": "18284792",
   "metadata": {},
   "outputs": [
    {
     "name": "stdout",
     "output_type": "stream",
     "text": [
      "Model: \"sequential_2\"\n",
      "_________________________________________________________________\n",
      "Layer (type)                 Output Shape              Param #   \n",
      "=================================================================\n",
      "dense_8 (Dense)              (None, 20)                16820     \n",
      "_________________________________________________________________\n",
      "dropout_6 (Dropout)          (None, 20)                0         \n",
      "_________________________________________________________________\n",
      "dense_9 (Dense)              (None, 10)                210       \n",
      "_________________________________________________________________\n",
      "dropout_7 (Dropout)          (None, 10)                0         \n",
      "_________________________________________________________________\n",
      "dense_10 (Dense)             (None, 10)                110       \n",
      "_________________________________________________________________\n",
      "dropout_8 (Dropout)          (None, 10)                0         \n",
      "_________________________________________________________________\n",
      "dense_11 (Dense)             (None, 48)                528       \n",
      "=================================================================\n",
      "Total params: 17,668\n",
      "Trainable params: 17,668\n",
      "Non-trainable params: 0\n",
      "_________________________________________________________________\n",
      "Training time:  29.57583737373352\n"
     ]
    }
   ],
   "source": [
    "start = (input_steps - 1) + (output_steps - 1)\n",
    "truedata = df['electricity_consumption'].iloc[start:splitsize].values\n",
    "\n",
    "index = df.iloc[start:splitsize].index\n",
    "residual = pd.DataFrame()\n",
    "for i in range(output_steps):\n",
    "    residual['step'+str(i+1)] = truedata - trendtrainpred[i] - seasonaltrainpred[i]\n",
    "residual.index = index\n",
    "\n",
    "residual = pd.concat([pd.DataFrame(index=df.index), residual], axis=1).fillna(method='bfill').fillna(method='ffill')\n",
    "residual = pd.concat([resid, residual], axis=1)\n",
    "\n",
    "resid_train, resid_test = train_test_split(residual,split=.8)\n",
    "resid_train, resid_test, resid_scale = scalefeature(resid_train, resid_test)\n",
    "\n",
    "resid_train, resid_test = reshape_data(resid_train, resid_test)\n",
    "\n",
    "train_X, train_y = reshapefeaturelabel(resid_train, input_steps, output_steps)\n",
    "test_X, test_y = reshapefeaturelabel(resid_test, input_steps, output_steps)\n",
    "\n",
    "start = (input_steps - 1) + (output_steps - 1)\n",
    "train_y = resid_train[start:,-output_steps:]\n",
    "test_y = resid_test[start:,-output_steps:]\n",
    "\n",
    "num_features = train_X.shape[2]\n",
    "\n",
    "num_dim = train_X.shape[1] * train_X.shape[2]\n",
    "train_X = train_X.reshape((train_X.shape[0], num_dim))\n",
    "test_X = test_X.reshape((test_X.shape[0], num_dim))\n",
    "\n",
    "model = dense_model(num_dim=num_dim, output_steps=output_steps)\n",
    "\n",
    "start = time()\n",
    "history = model.fit(train_X, train_y, epochs=epochs, batch_size=batch_size, verbose=0, shuffle=False)\n",
    "end = time()\n",
    "print(\"Training time: \",end - start)\n",
    "\n",
    "testPredict = model.predict(test_X)\n",
    "residpred = {}\n",
    "for i in range(output_steps):\n",
    "    predictvalue = resid_scale['electricity_consumption'].inverse_transform(testPredict[:,i].reshape(-1,1)).reshape(-1)\n",
    "    residpred[i] = predictvalue"
   ]
  },
  {
   "cell_type": "markdown",
   "id": "86b3fc33",
   "metadata": {},
   "source": [
    "Calculation accuracy of predictions"
   ]
  },
  {
   "cell_type": "code",
   "execution_count": 21,
   "id": "c40afe99",
   "metadata": {},
   "outputs": [],
   "source": [
    "def calculation_acurracy(rmse, mae, model_name, truedata, pred, output_steps):\n",
    "    '''\n",
    "    Calculation of accuracy of predictions using the metrics, root mean squared error and\n",
    "    mean absolute error\n",
    "    \n",
    "    Args:\n",
    "      rmse (dict): Stores the root mean squared error for the different models.\n",
    "      mae (dict): Stores the mean absolute error for the different models.\n",
    "      model_name (str): the model used for prediction.\n",
    "      truedata (numpy array): test data for out-of-sampling for the predictions with \n",
    "                            the n-step output.\n",
    "      pred (dict): predictions from the model with the n-step output.\n",
    "      output_steps (int): the number of steps for predictions.\n",
    "  \n",
    "    Returns:\n",
    "      dict: the dictionaries of rmse and mae are returned.\n",
    "    \n",
    "    '''\n",
    "    rmse[model_name] = []\n",
    "    mae[model_name] = []\n",
    "    for i in range(output_steps):\n",
    "        predictvalue = pred[i]\n",
    "        rmse[model_name].append(mean_squared_error(truedata, predictvalue, squared=False))\n",
    "        mae[model_name].append(mean_absolute_error(truedata, predictvalue))\n",
    "    return rmse, mae"
   ]
  },
  {
   "cell_type": "code",
   "execution_count": 22,
   "id": "d0494a62",
   "metadata": {},
   "outputs": [],
   "source": [
    "pred = {}\n",
    "for i in range(output_steps):\n",
    "    pred[i] = trendpred[i] + seasonalpred[i] + residpred[i]\n",
    "    \n",
    "    \n",
    "start = splitsize + (input_steps - 1) + (output_steps - 1)\n",
    "truedata = df['electricity_consumption'].iloc[start:].values\n",
    "\n",
    "rmse = {}\n",
    "mae = {}\n",
    "rmse, mae = calculation_acurracy(rmse, mae, \"dense\", truedata, pred, output_steps)"
   ]
  },
  {
   "cell_type": "markdown",
   "id": "ed11aa91",
   "metadata": {},
   "source": [
    "# LSTM Model"
   ]
  },
  {
   "cell_type": "markdown",
   "id": "cd2a97ef",
   "metadata": {},
   "source": [
    "Trend part"
   ]
  },
  {
   "cell_type": "code",
   "execution_count": 23,
   "id": "cd9aed4f",
   "metadata": {},
   "outputs": [
    {
     "name": "stdout",
     "output_type": "stream",
     "text": [
      "Model: \"sequential_3\"\n",
      "_________________________________________________________________\n",
      "Layer (type)                 Output Shape              Param #   \n",
      "=================================================================\n",
      "lstm (LSTM)                  (None, 10)                1960      \n",
      "_________________________________________________________________\n",
      "dense_12 (Dense)             (None, 5)                 55        \n",
      "_________________________________________________________________\n",
      "dense_13 (Dense)             (None, 48)                288       \n",
      "=================================================================\n",
      "Total params: 2,303\n",
      "Trainable params: 2,303\n",
      "Non-trainable params: 0\n",
      "_________________________________________________________________\n",
      "Training time:  112.99891376495361\n"
     ]
    }
   ],
   "source": [
    "train_X, train_y = reshapefeaturelabel(trend_train, input_steps, output_steps)\n",
    "test_X, test_y = reshapefeaturelabel(trend_test, input_steps, output_steps)\n",
    "\n",
    "num_features = train_X.shape[2]\n",
    "\n",
    "train_X = train_X.reshape((train_X.shape[0], train_X.shape[1], num_features))\n",
    "test_X = test_X.reshape((test_X.shape[0], test_X.shape[1], num_features))\n",
    "\n",
    "model = lstm_model(input_steps=input_steps, num_features=num_features, output_steps=output_steps)\n",
    "\n",
    "start = time()\n",
    "history = model.fit(train_X, train_y, epochs=epochs, batch_size=batch_size, verbose=0, shuffle=False)\n",
    "end = time()\n",
    "print(\"Training time: \",end - start)\n",
    "\n",
    "testPredict = model.predict(test_X)\n",
    "trendpred = {}\n",
    "for i in range(output_steps):\n",
    "    truevalue = trend_scale['electricity_consumption'].inverse_transform(test_y[:,i].reshape(-1,1)).reshape(-1)\n",
    "    predictvalue = trend_scale['electricity_consumption'].inverse_transform(testPredict[:,i].reshape(-1,1)).reshape(-1)\n",
    "    trendpred[i] = predictvalue\n",
    "    \n",
    "trendtrainpred = {}\n",
    "trainPredict = model.predict(train_X)\n",
    "for i in range(output_steps):\n",
    "    truevalue = trend_scale['electricity_consumption'].inverse_transform(train_y[:,i].reshape(-1,1)).reshape(-1)\n",
    "    predictvalue = trend_scale['electricity_consumption'].inverse_transform(trainPredict[:,i].reshape(-1,1)).reshape(-1)\n",
    "    trendtrainpred[i] = predictvalue"
   ]
  },
  {
   "cell_type": "markdown",
   "id": "67686442",
   "metadata": {},
   "source": [
    "Seasonal part"
   ]
  },
  {
   "cell_type": "code",
   "execution_count": 24,
   "id": "505e7096",
   "metadata": {},
   "outputs": [
    {
     "name": "stdout",
     "output_type": "stream",
     "text": [
      "Model: \"sequential_4\"\n",
      "_________________________________________________________________\n",
      "Layer (type)                 Output Shape              Param #   \n",
      "=================================================================\n",
      "lstm_1 (LSTM)                (None, 10)                1560      \n",
      "_________________________________________________________________\n",
      "dense_14 (Dense)             (None, 5)                 55        \n",
      "_________________________________________________________________\n",
      "dense_15 (Dense)             (None, 48)                288       \n",
      "=================================================================\n",
      "Total params: 1,903\n",
      "Trainable params: 1,903\n",
      "Non-trainable params: 0\n",
      "_________________________________________________________________\n",
      "Training time:  123.54985046386719\n"
     ]
    }
   ],
   "source": [
    "train_X, train_y = reshapefeaturelabel(seasonal_train, input_steps, output_steps)\n",
    "test_X, test_y = reshapefeaturelabel(seasonal_test, input_steps, output_steps)\n",
    "\n",
    "num_features = train_X.shape[2]\n",
    "\n",
    "train_X = train_X.reshape((train_X.shape[0], train_X.shape[1], num_features))\n",
    "test_X = test_X.reshape((test_X.shape[0], test_X.shape[1], num_features))\n",
    "\n",
    "model = lstm_model(input_steps=input_steps, num_features=num_features, output_steps=output_steps)\n",
    "\n",
    "start = time()\n",
    "history = model.fit(train_X, train_y, epochs=epochs, batch_size=batch_size, verbose=0, shuffle=False)\n",
    "end = time()\n",
    "print(\"Training time: \",end - start)\n",
    "\n",
    "testPredict = model.predict(test_X)\n",
    "seasonalpred = {}\n",
    "for i in range(output_steps):\n",
    "    truevalue = seasonal_scale['electricity_consumption'].inverse_transform(test_y[:,i].reshape(-1,1)).reshape(-1)\n",
    "    predictvalue = seasonal_scale['electricity_consumption'].inverse_transform(testPredict[:,i].reshape(-1,1)).reshape(-1)\n",
    "    seasonalpred[i] = predictvalue\n",
    "    \n",
    "seasonaltrainpred = {}\n",
    "trainPredict = model.predict(train_X)\n",
    "for i in range(output_steps):\n",
    "    truevalue = seasonal_scale['electricity_consumption'].inverse_transform(train_y[:,i].reshape(-1,1)).reshape(-1)\n",
    "    predictvalue = seasonal_scale['electricity_consumption'].inverse_transform(trainPredict[:,i].reshape(-1,1)).reshape(-1)\n",
    "    seasonaltrainpred[i] = predictvalue"
   ]
  },
  {
   "cell_type": "markdown",
   "id": "959123c6",
   "metadata": {},
   "source": [
    "Residual part"
   ]
  },
  {
   "cell_type": "code",
   "execution_count": 25,
   "id": "82c84b6c",
   "metadata": {},
   "outputs": [
    {
     "name": "stdout",
     "output_type": "stream",
     "text": [
      "Model: \"sequential_5\"\n",
      "_________________________________________________________________\n",
      "Layer (type)                 Output Shape              Param #   \n",
      "=================================================================\n",
      "lstm_2 (LSTM)                (None, 10)                3800      \n",
      "_________________________________________________________________\n",
      "dense_16 (Dense)             (None, 5)                 55        \n",
      "_________________________________________________________________\n",
      "dense_17 (Dense)             (None, 48)                288       \n",
      "=================================================================\n",
      "Total params: 4,143\n",
      "Trainable params: 4,143\n",
      "Non-trainable params: 0\n",
      "_________________________________________________________________\n",
      "Training time:  134.80514645576477\n"
     ]
    }
   ],
   "source": [
    "start = (input_steps - 1) + (output_steps - 1)\n",
    "truedata = df['electricity_consumption'].iloc[start:splitsize].values\n",
    "\n",
    "index = df.iloc[start:splitsize].index\n",
    "residual = pd.DataFrame()\n",
    "for i in range(output_steps):\n",
    "    residual['step'+str(i+1)] = truedata - trendtrainpred[i] - seasonaltrainpred[i]\n",
    "residual.index = index\n",
    "\n",
    "residual = pd.concat([pd.DataFrame(index=df.index), residual], axis=1).fillna(method='bfill').fillna(method='ffill')\n",
    "residual = pd.concat([resid, residual], axis=1)\n",
    "\n",
    "resid_train, resid_test = train_test_split(residual,split=.8)\n",
    "resid_train, resid_test, resid_scale = scalefeature(resid_train, resid_test)\n",
    "\n",
    "resid_train, resid_test = reshape_data(resid_train, resid_test)\n",
    "\n",
    "train_X, train_y = reshapefeaturelabel(resid_train, input_steps, output_steps)\n",
    "test_X, test_y = reshapefeaturelabel(resid_test, input_steps, output_steps)\n",
    "\n",
    "start = (input_steps - 1) + (output_steps - 1)\n",
    "train_y = resid_train[start:,-output_steps:]\n",
    "test_y = resid_test[start:,-output_steps:]\n",
    "\n",
    "num_features = train_X.shape[2]\n",
    "\n",
    "train_X = train_X.reshape((train_X.shape[0], train_X.shape[1], num_features))\n",
    "test_X = test_X.reshape((test_X.shape[0], test_X.shape[1], num_features))\n",
    "\n",
    "model = lstm_model(input_steps=input_steps, num_features=num_features, output_steps=output_steps)\n",
    "\n",
    "start = time()\n",
    "history = model.fit(train_X, train_y, epochs=epochs, batch_size=batch_size, verbose=0, shuffle=False)\n",
    "end = time()\n",
    "print(\"Training time: \",end - start)\n",
    "\n",
    "testPredict = model.predict(test_X)\n",
    "residpred = {}\n",
    "for i in range(output_steps):\n",
    "    predictvalue = resid_scale['electricity_consumption'].inverse_transform(testPredict[:,i].reshape(-1,1)).reshape(-1)\n",
    "    residpred[i] = predictvalue"
   ]
  },
  {
   "cell_type": "markdown",
   "id": "d4650e98",
   "metadata": {},
   "source": [
    "Calculation of accuracy of predictions"
   ]
  },
  {
   "cell_type": "code",
   "execution_count": 26,
   "id": "e5428dbd",
   "metadata": {},
   "outputs": [],
   "source": [
    "pred = {}\n",
    "for i in range(output_steps):\n",
    "    pred[i] = trendpred[i] + seasonalpred[i] + residpred[i]\n",
    "    \n",
    "    \n",
    "start = splitsize + (input_steps - 1) + (output_steps - 1)\n",
    "truedata = df['electricity_consumption'].iloc[start:].values\n",
    "\n",
    "rmse, mae = calculation_acurracy(rmse, mae, \"lstm\", truedata, pred, output_steps)"
   ]
  },
  {
   "cell_type": "markdown",
   "id": "3b20a7b6",
   "metadata": {},
   "source": [
    "# CNN Model"
   ]
  },
  {
   "cell_type": "markdown",
   "id": "6d5f35ca",
   "metadata": {},
   "source": [
    "Trend part"
   ]
  },
  {
   "cell_type": "code",
   "execution_count": 27,
   "id": "976d7a4e",
   "metadata": {},
   "outputs": [
    {
     "name": "stdout",
     "output_type": "stream",
     "text": [
      "Model: \"sequential_6\"\n",
      "_________________________________________________________________\n",
      "Layer (type)                 Output Shape              Param #   \n",
      "=================================================================\n",
      "conv1d (Conv1D)              (None, 10, 64)            2496      \n",
      "_________________________________________________________________\n",
      "max_pooling1d (MaxPooling1D) (None, 5, 64)             0         \n",
      "_________________________________________________________________\n",
      "flatten (Flatten)            (None, 320)               0         \n",
      "_________________________________________________________________\n",
      "dense_18 (Dense)             (None, 10)                3210      \n",
      "_________________________________________________________________\n",
      "dense_19 (Dense)             (None, 48)                528       \n",
      "=================================================================\n",
      "Total params: 6,234\n",
      "Trainable params: 6,234\n",
      "Non-trainable params: 0\n",
      "_________________________________________________________________\n",
      "Training time:  46.223525524139404\n"
     ]
    }
   ],
   "source": [
    "train_X, train_y = reshapefeaturelabel(trend_train, input_steps, output_steps)\n",
    "test_X, test_y = reshapefeaturelabel(trend_test, input_steps, output_steps)\n",
    "\n",
    "num_features = train_X.shape[2]\n",
    "\n",
    "train_X = train_X.reshape((train_X.shape[0], train_X.shape[1], num_features))\n",
    "test_X = test_X.reshape((test_X.shape[0], test_X.shape[1], num_features))\n",
    "\n",
    "model = cnn_model(input_steps=input_steps, num_features=num_features, output_steps=output_steps)\n",
    "\n",
    "start = time()\n",
    "history = model.fit(train_X, train_y, epochs=epochs, batch_size=batch_size, verbose=0, shuffle=False)\n",
    "end = time()\n",
    "print(\"Training time: \",end - start)\n",
    "\n",
    "testPredict = model.predict(test_X)\n",
    "trendpred = {}\n",
    "for i in range(output_steps):\n",
    "    truevalue = trend_scale['electricity_consumption'].inverse_transform(test_y[:,i].reshape(-1,1)).reshape(-1)\n",
    "    predictvalue = trend_scale['electricity_consumption'].inverse_transform(testPredict[:,i].reshape(-1,1)).reshape(-1)\n",
    "    trendpred[i] = predictvalue\n",
    "    \n",
    "trendtrainpred = {}\n",
    "trainPredict = model.predict(train_X)\n",
    "for i in range(output_steps):\n",
    "    truevalue = trend_scale['electricity_consumption'].inverse_transform(train_y[:,i].reshape(-1,1)).reshape(-1)\n",
    "    predictvalue = trend_scale['electricity_consumption'].inverse_transform(trainPredict[:,i].reshape(-1,1)).reshape(-1)\n",
    "    trendtrainpred[i] = predictvalue"
   ]
  },
  {
   "cell_type": "markdown",
   "id": "1d2c152a",
   "metadata": {},
   "source": [
    "Seasonal part"
   ]
  },
  {
   "cell_type": "code",
   "execution_count": 28,
   "id": "30abafc2",
   "metadata": {},
   "outputs": [
    {
     "name": "stdout",
     "output_type": "stream",
     "text": [
      "Model: \"sequential_7\"\n",
      "_________________________________________________________________\n",
      "Layer (type)                 Output Shape              Param #   \n",
      "=================================================================\n",
      "conv1d_1 (Conv1D)            (None, 10, 64)            1856      \n",
      "_________________________________________________________________\n",
      "max_pooling1d_1 (MaxPooling1 (None, 5, 64)             0         \n",
      "_________________________________________________________________\n",
      "flatten_1 (Flatten)          (None, 320)               0         \n",
      "_________________________________________________________________\n",
      "dense_20 (Dense)             (None, 10)                3210      \n",
      "_________________________________________________________________\n",
      "dense_21 (Dense)             (None, 48)                528       \n",
      "=================================================================\n",
      "Total params: 5,594\n",
      "Trainable params: 5,594\n",
      "Non-trainable params: 0\n",
      "_________________________________________________________________\n",
      "Training time:  42.14081931114197\n"
     ]
    }
   ],
   "source": [
    "train_X, train_y = reshapefeaturelabel(seasonal_train, input_steps, output_steps)\n",
    "test_X, test_y = reshapefeaturelabel(seasonal_test, input_steps, output_steps)\n",
    "\n",
    "num_features = train_X.shape[2]\n",
    "\n",
    "train_X = train_X.reshape((train_X.shape[0], train_X.shape[1], num_features))\n",
    "test_X = test_X.reshape((test_X.shape[0], test_X.shape[1], num_features))\n",
    "\n",
    "model = cnn_model(input_steps=input_steps, num_features=num_features, output_steps=output_steps)\n",
    "\n",
    "start = time()\n",
    "history = model.fit(train_X, train_y, epochs=epochs, batch_size=batch_size, verbose=0, shuffle=False)\n",
    "end = time()\n",
    "print(\"Training time: \",end - start)\n",
    "\n",
    "testPredict = model.predict(test_X)\n",
    "seasonalpred = {}\n",
    "for i in range(output_steps):\n",
    "    truevalue = seasonal_scale['electricity_consumption'].inverse_transform(test_y[:,i].reshape(-1,1)).reshape(-1)\n",
    "    predictvalue = seasonal_scale['electricity_consumption'].inverse_transform(testPredict[:,i].reshape(-1,1)).reshape(-1)\n",
    "    seasonalpred[i] = predictvalue\n",
    "    \n",
    "seasonaltrainpred = {}\n",
    "trainPredict = model.predict(train_X)\n",
    "for i in range(output_steps):\n",
    "    truevalue = seasonal_scale['electricity_consumption'].inverse_transform(train_y[:,i].reshape(-1,1)).reshape(-1)\n",
    "    predictvalue = seasonal_scale['electricity_consumption'].inverse_transform(trainPredict[:,i].reshape(-1,1)).reshape(-1)\n",
    "    seasonaltrainpred[i] = predictvalue"
   ]
  },
  {
   "cell_type": "markdown",
   "id": "dc1faff3",
   "metadata": {},
   "source": [
    "Residual part"
   ]
  },
  {
   "cell_type": "code",
   "execution_count": 29,
   "id": "d8065412",
   "metadata": {},
   "outputs": [
    {
     "name": "stdout",
     "output_type": "stream",
     "text": [
      "Model: \"sequential_8\"\n",
      "_________________________________________________________________\n",
      "Layer (type)                 Output Shape              Param #   \n",
      "=================================================================\n",
      "conv1d_2 (Conv1D)            (None, 10, 64)            5440      \n",
      "_________________________________________________________________\n",
      "max_pooling1d_2 (MaxPooling1 (None, 5, 64)             0         \n",
      "_________________________________________________________________\n",
      "flatten_2 (Flatten)          (None, 320)               0         \n",
      "_________________________________________________________________\n",
      "dense_22 (Dense)             (None, 10)                3210      \n",
      "_________________________________________________________________\n",
      "dense_23 (Dense)             (None, 48)                528       \n",
      "=================================================================\n",
      "Total params: 9,178\n",
      "Trainable params: 9,178\n",
      "Non-trainable params: 0\n",
      "_________________________________________________________________\n",
      "Training time:  49.63211679458618\n"
     ]
    }
   ],
   "source": [
    "start = (input_steps - 1) + (output_steps - 1)\n",
    "truedata = df['electricity_consumption'].iloc[start:splitsize].values\n",
    "\n",
    "index = df.iloc[start:splitsize].index\n",
    "residual = pd.DataFrame()\n",
    "for i in range(output_steps):\n",
    "    residual['step'+str(i+1)] = truedata - trendtrainpred[i] - seasonaltrainpred[i]\n",
    "residual.index = index\n",
    "\n",
    "residual = pd.concat([pd.DataFrame(index=df.index), residual], axis=1).fillna(method='bfill').fillna(method='ffill')\n",
    "residual = pd.concat([resid, residual], axis=1)\n",
    "\n",
    "resid_train, resid_test = train_test_split(residual,split=.8)\n",
    "resid_train, resid_test, resid_scale = scalefeature(resid_train, resid_test)\n",
    "\n",
    "resid_train, resid_test = reshape_data(resid_train, resid_test)\n",
    "\n",
    "train_X, train_y = reshapefeaturelabel(resid_train, input_steps, output_steps)\n",
    "test_X, test_y = reshapefeaturelabel(resid_test, input_steps, output_steps)\n",
    "\n",
    "start = (input_steps - 1) + (output_steps - 1)\n",
    "train_y = resid_train[start:,-output_steps:]\n",
    "test_y = resid_test[start:,-output_steps:]\n",
    "\n",
    "num_features = train_X.shape[2]\n",
    "\n",
    "train_X = train_X.reshape((train_X.shape[0], train_X.shape[1], num_features))\n",
    "test_X = test_X.reshape((test_X.shape[0], test_X.shape[1], num_features))\n",
    "\n",
    "model = cnn_model(input_steps=input_steps, num_features=num_features, output_steps=output_steps)\n",
    "\n",
    "start = time()\n",
    "history = model.fit(train_X, train_y, epochs=epochs, batch_size=batch_size, verbose=0, shuffle=False)\n",
    "end = time()\n",
    "print(\"Training time: \",end - start)\n",
    "\n",
    "testPredict = model.predict(test_X)\n",
    "residpred = {}\n",
    "for i in range(output_steps):\n",
    "    predictvalue = resid_scale['electricity_consumption'].inverse_transform(testPredict[:,i].reshape(-1,1)).reshape(-1)\n",
    "    residpred[i] = predictvalue"
   ]
  },
  {
   "cell_type": "markdown",
   "id": "22ae833c",
   "metadata": {},
   "source": [
    "Calculation of accuracy of predictions"
   ]
  },
  {
   "cell_type": "code",
   "execution_count": 30,
   "id": "3ecfd16a",
   "metadata": {},
   "outputs": [],
   "source": [
    "pred = {}\n",
    "for i in range(output_steps):\n",
    "    pred[i] = trendpred[i] + seasonalpred[i] + residpred[i]\n",
    "    \n",
    "    \n",
    "start = splitsize + (input_steps - 1) + (output_steps - 1)\n",
    "truedata = df['electricity_consumption'].iloc[start:].values\n",
    "\n",
    "rmse, mae = calculation_acurracy(rmse, mae, \"cnn\", truedata, pred, output_steps)"
   ]
  },
  {
   "cell_type": "markdown",
   "id": "b7a1789f",
   "metadata": {},
   "source": [
    "# CNN-LSTM Model"
   ]
  },
  {
   "cell_type": "code",
   "execution_count": 31,
   "id": "cfe4efb7",
   "metadata": {},
   "outputs": [],
   "source": [
    "input_steps = 25\n",
    "num_seq = 5\n",
    "num_steps = 5"
   ]
  },
  {
   "cell_type": "markdown",
   "id": "d0dfa323",
   "metadata": {},
   "source": [
    "Trend part"
   ]
  },
  {
   "cell_type": "code",
   "execution_count": 32,
   "id": "30364ebd",
   "metadata": {},
   "outputs": [
    {
     "name": "stdout",
     "output_type": "stream",
     "text": [
      "Model: \"sequential_9\"\n",
      "_________________________________________________________________\n",
      "Layer (type)                 Output Shape              Param #   \n",
      "=================================================================\n",
      "time_distributed (TimeDistri (None, None, 5, 64)       2496      \n",
      "_________________________________________________________________\n",
      "time_distributed_1 (TimeDist (None, None, 2, 64)       0         \n",
      "_________________________________________________________________\n",
      "time_distributed_2 (TimeDist (None, None, 128)         0         \n",
      "_________________________________________________________________\n",
      "lstm_3 (LSTM)                (None, 20)                11920     \n",
      "_________________________________________________________________\n",
      "dropout_9 (Dropout)          (None, 20)                0         \n",
      "_________________________________________________________________\n",
      "dense_24 (Dense)             (None, 48)                1008      \n",
      "=================================================================\n",
      "Total params: 15,424\n",
      "Trainable params: 15,424\n",
      "Non-trainable params: 0\n",
      "_________________________________________________________________\n",
      "Training time:  128.4600281715393\n"
     ]
    }
   ],
   "source": [
    "train_X, train_y = reshapefeaturelabel(trend_train, input_steps, output_steps)\n",
    "test_X, test_y = reshapefeaturelabel(trend_test, input_steps, output_steps)\n",
    "\n",
    "num_features = train_X.shape[2]\n",
    "\n",
    "train_X = train_X.reshape((train_X.shape[0], num_seq, num_steps, num_features))\n",
    "test_X = test_X.reshape((test_X.shape[0], num_seq, num_steps, num_features))\n",
    "\n",
    "model = cnnlstm_model(num_steps=num_steps, num_features=num_features, output_steps=output_steps)\n",
    "\n",
    "start = time()\n",
    "history = model.fit(train_X, train_y, epochs=epochs, batch_size=batch_size, verbose=0, shuffle=False)\n",
    "end = time()\n",
    "print(\"Training time: \",end - start)\n",
    "\n",
    "testPredict = model.predict(test_X)\n",
    "trendpred = {}\n",
    "for i in range(output_steps):\n",
    "    truevalue = trend_scale['electricity_consumption'].inverse_transform(test_y[:,i].reshape(-1,1)).reshape(-1)\n",
    "    predictvalue = trend_scale['electricity_consumption'].inverse_transform(testPredict[:,i].reshape(-1,1)).reshape(-1)\n",
    "    trendpred[i] = predictvalue\n",
    "    \n",
    "trendtrainpred = {}\n",
    "trainPredict = model.predict(train_X)\n",
    "for i in range(output_steps):\n",
    "    truevalue = trend_scale['electricity_consumption'].inverse_transform(train_y[:,i].reshape(-1,1)).reshape(-1)\n",
    "    predictvalue = trend_scale['electricity_consumption'].inverse_transform(trainPredict[:,i].reshape(-1,1)).reshape(-1)\n",
    "    trendtrainpred[i] = predictvalue"
   ]
  },
  {
   "cell_type": "markdown",
   "id": "8817c3b9",
   "metadata": {},
   "source": [
    "Seasonal part"
   ]
  },
  {
   "cell_type": "code",
   "execution_count": 33,
   "id": "882aed16",
   "metadata": {},
   "outputs": [
    {
     "name": "stdout",
     "output_type": "stream",
     "text": [
      "Model: \"sequential_10\"\n",
      "_________________________________________________________________\n",
      "Layer (type)                 Output Shape              Param #   \n",
      "=================================================================\n",
      "time_distributed_3 (TimeDist (None, None, 5, 64)       1856      \n",
      "_________________________________________________________________\n",
      "time_distributed_4 (TimeDist (None, None, 2, 64)       0         \n",
      "_________________________________________________________________\n",
      "time_distributed_5 (TimeDist (None, None, 128)         0         \n",
      "_________________________________________________________________\n",
      "lstm_4 (LSTM)                (None, 20)                11920     \n",
      "_________________________________________________________________\n",
      "dropout_10 (Dropout)         (None, 20)                0         \n",
      "_________________________________________________________________\n",
      "dense_25 (Dense)             (None, 48)                1008      \n",
      "=================================================================\n",
      "Total params: 14,784\n",
      "Trainable params: 14,784\n",
      "Non-trainable params: 0\n",
      "_________________________________________________________________\n",
      "Training time:  135.02659845352173\n"
     ]
    }
   ],
   "source": [
    "train_X, train_y = reshapefeaturelabel(seasonal_train, input_steps, output_steps)\n",
    "test_X, test_y = reshapefeaturelabel(seasonal_test, input_steps, output_steps)\n",
    "\n",
    "num_features = train_X.shape[2]\n",
    "\n",
    "train_X = train_X.reshape((train_X.shape[0], num_seq, num_steps, num_features))\n",
    "test_X = test_X.reshape((test_X.shape[0], num_seq, num_steps, num_features))\n",
    "\n",
    "model = cnnlstm_model(num_steps=num_steps, num_features=num_features, output_steps=output_steps)\n",
    "\n",
    "start = time()\n",
    "history = model.fit(train_X, train_y, epochs=epochs, batch_size=batch_size, verbose=0, shuffle=False)\n",
    "end = time()\n",
    "print(\"Training time: \",end - start)\n",
    "\n",
    "testPredict = model.predict(test_X)\n",
    "seasonalpred = {}\n",
    "for i in range(output_steps):\n",
    "    truevalue = seasonal_scale['electricity_consumption'].inverse_transform(test_y[:,i].reshape(-1,1)).reshape(-1)\n",
    "    predictvalue = seasonal_scale['electricity_consumption'].inverse_transform(testPredict[:,i].reshape(-1,1)).reshape(-1)\n",
    "    seasonalpred[i] = predictvalue\n",
    "    \n",
    "seasonaltrainpred = {}\n",
    "trainPredict = model.predict(train_X)\n",
    "for i in range(output_steps):\n",
    "    truevalue = seasonal_scale['electricity_consumption'].inverse_transform(train_y[:,i].reshape(-1,1)).reshape(-1)\n",
    "    predictvalue = seasonal_scale['electricity_consumption'].inverse_transform(trainPredict[:,i].reshape(-1,1)).reshape(-1)\n",
    "    seasonaltrainpred[i] = predictvalue"
   ]
  },
  {
   "cell_type": "markdown",
   "id": "e62f06d4",
   "metadata": {},
   "source": [
    "Residual part"
   ]
  },
  {
   "cell_type": "code",
   "execution_count": 34,
   "id": "f60449b3",
   "metadata": {},
   "outputs": [
    {
     "name": "stdout",
     "output_type": "stream",
     "text": [
      "Model: \"sequential_11\"\n",
      "_________________________________________________________________\n",
      "Layer (type)                 Output Shape              Param #   \n",
      "=================================================================\n",
      "time_distributed_6 (TimeDist (None, None, 5, 64)       5440      \n",
      "_________________________________________________________________\n",
      "time_distributed_7 (TimeDist (None, None, 2, 64)       0         \n",
      "_________________________________________________________________\n",
      "time_distributed_8 (TimeDist (None, None, 128)         0         \n",
      "_________________________________________________________________\n",
      "lstm_5 (LSTM)                (None, 20)                11920     \n",
      "_________________________________________________________________\n",
      "dropout_11 (Dropout)         (None, 20)                0         \n",
      "_________________________________________________________________\n",
      "dense_26 (Dense)             (None, 48)                1008      \n",
      "=================================================================\n",
      "Total params: 18,368\n",
      "Trainable params: 18,368\n",
      "Non-trainable params: 0\n",
      "_________________________________________________________________\n",
      "Training time:  0.13125324249267578\n"
     ]
    }
   ],
   "source": [
    "start = (input_steps - 1) + (output_steps - 1)\n",
    "truedata = df['electricity_consumption'].iloc[start:splitsize].values\n",
    "\n",
    "index = df.iloc[start:splitsize].index\n",
    "residual = pd.DataFrame()\n",
    "for i in range(output_steps):\n",
    "    residual['step'+str(i+1)] = truedata - trendtrainpred[i] - seasonaltrainpred[i]\n",
    "residual.index = index\n",
    "\n",
    "residual = pd.concat([pd.DataFrame(index=df.index), residual], axis=1).fillna(method='bfill').fillna(method='ffill')\n",
    "residual = pd.concat([resid, residual], axis=1)\n",
    "\n",
    "resid_train, resid_test = train_test_split(residual,split=.8)\n",
    "resid_train, resid_test, resid_scale = scalefeature(resid_train, resid_test)\n",
    "\n",
    "resid_train, resid_test = reshape_data(resid_train, resid_test)\n",
    "\n",
    "train_X, train_y = reshapefeaturelabel(resid_train, input_steps, output_steps)\n",
    "test_X, test_y = reshapefeaturelabel(resid_test, input_steps, output_steps)\n",
    "\n",
    "start = (input_steps - 1) + (output_steps - 1)\n",
    "train_y = resid_train[start:,-output_steps:]\n",
    "test_y = resid_test[start:,-output_steps:]\n",
    "\n",
    "num_features = train_X.shape[2]\n",
    "\n",
    "train_X = train_X.reshape((train_X.shape[0], num_seq, num_steps, num_features))\n",
    "test_X = test_X.reshape((test_X.shape[0], num_seq, num_steps, num_features))\n",
    "\n",
    "start = time()\n",
    "model = cnnlstm_model(num_steps=num_steps, num_features=num_features, output_steps=output_steps)\n",
    "end = time()\n",
    "print(\"Training time: \",end - start)\n",
    "\n",
    "history = model.fit(train_X, train_y, epochs=epochs, batch_size=batch_size, verbose=0, shuffle=False)\n",
    "\n",
    "testPredict = model.predict(test_X)\n",
    "residpred = {}\n",
    "for i in range(output_steps):\n",
    "    predictvalue = resid_scale['electricity_consumption'].inverse_transform(testPredict[:,i].reshape(-1,1)).reshape(-1)\n",
    "    residpred[i] = predictvalue"
   ]
  },
  {
   "cell_type": "markdown",
   "id": "6fc5052b",
   "metadata": {},
   "source": [
    "Calculation of accuracy of predictions"
   ]
  },
  {
   "cell_type": "code",
   "execution_count": 35,
   "id": "0750ae92",
   "metadata": {},
   "outputs": [],
   "source": [
    "pred = {}\n",
    "for i in range(output_steps):\n",
    "    pred[i] = trendpred[i] + seasonalpred[i] + residpred[i]\n",
    "    \n",
    "start = splitsize + (input_steps - 1) + (output_steps - 1)\n",
    "truedata = df['electricity_consumption'].iloc[start:].values\n",
    "\n",
    "rmse, mae = calculation_acurracy(rmse, mae, \"cnn-lstm\", truedata, pred, output_steps)"
   ]
  },
  {
   "cell_type": "markdown",
   "id": "5bb498b6",
   "metadata": {},
   "source": [
    "# Comparsion of predictions of different models"
   ]
  },
  {
   "cell_type": "code",
   "execution_count": 36,
   "id": "b5c022ff",
   "metadata": {},
   "outputs": [
    {
     "data": {
      "text/plain": [
       "(1.0, 48.0)"
      ]
     },
     "execution_count": 36,
     "metadata": {},
     "output_type": "execute_result"
    },
    {
     "data": {
      "image/png": "[encoded data removed]",
      "text/plain": [
       "<Figure size 864x576 with 1 Axes>"
      ]
     },
     "metadata": {
      "needs_background": "light"
     },
     "output_type": "display_data"
    }
   ],
   "source": [
    "temp = pd.DataFrame(rmse)\n",
    "index = [i for i in range(1, output_steps+1)]\n",
    "temp.index = index\n",
    "\n",
    "temp.plot(marker=\"*\", title='RMSE of different models', figsize=(12,8))\n",
    "plt.xlabel('number of prediction steps')\n",
    "plt.ylabel('rmse')\n",
    "plt.xlim([1,output_steps])"
   ]
  },
  {
   "cell_type": "code",
   "execution_count": 37,
   "id": "372eef5c",
   "metadata": {},
   "outputs": [
    {
     "data": {
      "text/plain": [
       "(1.0, 48.0)"
      ]
     },
     "execution_count": 37,
     "metadata": {},
     "output_type": "execute_result"
    },
    {
     "data": {
      "image/png": "[encoded data removed]",
      "text/plain": [
       "<Figure size 864x576 with 1 Axes>"
      ]
     },
     "metadata": {
      "needs_background": "light"
     },
     "output_type": "display_data"
    }
   ],
   "source": [
    "temp = pd.DataFrame(mae)\n",
    "index = [i for i in range(1, output_steps+1)]\n",
    "temp.index = index\n",
    "\n",
    "temp.plot(marker=\"*\", title='MAE of different models', figsize=(12,8))\n",
    "plt.xlabel('number of prediction steps')\n",
    "plt.ylabel('mae')\n",
    "plt.xlim([1,output_steps])"
   ]
  },
  {
   "cell_type": "markdown",
   "id": "5d654b6b",
   "metadata": {},
   "source": [
    "# Summary"
   ]
  },
  {
   "cell_type": "markdown",
   "id": "a74abad6",
   "metadata": {},
   "source": [
    "We compare the predictions using the different deep-learning models. They exhibit the predictions with a higher accuracy in a longer term. "
   ]
  }
 ],
 "metadata": {
  "kernelspec": {
   "display_name": "Python 3 (ipykernel)",
   "language": "python",
   "name": "python3"
  },
  "language_info": {
   "codemirror_mode": {
    "name": "ipython",
    "version": 3
   },
   "file_extension": ".py",
   "mimetype": "text/x-python",
   "name": "python",
   "nbconvert_exporter": "python",
   "pygments_lexer": "ipython3",
   "version": "3.7.9"
  }
 },
 "nbformat": 4,
 "nbformat_minor": 5
}
